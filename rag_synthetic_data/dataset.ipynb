{
 "cells": [
  {
   "cell_type": "markdown",
   "metadata": {},
   "source": [
    "## Synthetic data with GPT-4o and OpenAI Batch service"
   ]
  },
  {
   "cell_type": "code",
   "execution_count": 8,
   "metadata": {},
   "outputs": [],
   "source": [
    "import random, json, yaml, random\n",
    "from string import Template\n",
    "\n",
    "from dotenv import load_dotenv\n",
    "from openai import OpenAI\n",
    "import pandas as pd\n",
    "from tqdm import tqdm\n",
    "\n",
    "from fortune_500 import companies\n",
    "\n",
    "load_dotenv(\"../.env\")\n",
    "random.seed(42)"
   ]
  },
  {
   "cell_type": "code",
   "execution_count": 2,
   "metadata": {},
   "outputs": [
    {
     "data": {
      "text/plain": [
       "[('Industrials', '3M'),\n",
       " ('Industrials', 'A. O. Smith'),\n",
       " ('Health Care', 'Abbott Laboratories')]"
      ]
     },
     "execution_count": 2,
     "metadata": {},
     "output_type": "execute_result"
    }
   ],
   "source": [
    "companies[:3]"
   ]
  },
  {
   "cell_type": "code",
   "execution_count": 74,
   "metadata": {},
   "outputs": [
    {
     "name": "stdout",
     "output_type": "stream",
     "text": [
      "**Task Overview**\n",
      "Your job is to create structured data in a specific format (YAML) that includes:\n",
      "\n",
      "1. **Context:** This should be a collection of at least 10 paragraphs from quarterly and yearly reports of various companies in the S&P 500 list. The paragraphs can vary in length (10-15 sentences) and should contain both text and a table in markdown format with at least *10* rows and *5* columns. The table should be present in just one paragraph. The context should be rich enough to allow for detailed questions and answers. Talk about competitors in the context. Be creative while creating the context and questions so that it is different every time. \n",
      "\n",
      "2. **Questions:** You need to create a list of complex questions based on the context. These questions should require deep reasoning, involve multiple references, or be based on the information in the table. Include questions for each of these types:\n",
      "- reasoning: questions that require synthesizing information from multiple paragraphs.\n",
      "- cannot answer: questions that cannot be answered with the provided context. Say \"I do not have the information to answer this question.\"\n",
      "- tabular: questions that specifically ask for information from the table. Generate 3 questions which require different operations.\n",
      "- extractive: questions that require extracting specific entities from the context.\n",
      "- math: questions that involve different type of relevant math calculations.\n",
      "\n",
      "3. **Answers:** Provide a concise answer based on the context for each question. If a question cannot be answered with the given information, state that you do not have the information. For math questions, show the calculations used to arrive at the answer.\n",
      "\n",
      "# Schema of yaml output\n",
      "Sector: Consumer Discretionary\n",
      "Company: Airbnb\n",
      "Context: List[str] \n",
      "Questions : List[Tuple[type: str, question: str]] \n",
      "Answers: List[str]\n",
      "\n",
      "Don't generate anything after generating the YAML output.\n",
      "\n"
     ]
    }
   ],
   "source": [
    "sector, company_name = random.choice(companies)\n",
    "\n",
    "MODEL = \"gpt-4o-2024-08-06\"\n",
    "SYSTEM = \"You are an expert in data annotation for machine learning models, specifically in the areas of LLM and generative AI.\"\n",
    "\n",
    "PROMPT = Template(\"\"\"**Task Overview**\n",
    "Your job is to create structured data in a specific format (YAML) that includes:\n",
    "\n",
    "1. **Context:** This should be a collection of at least 10 paragraphs from quarterly and yearly reports of various companies in the S&P 500 list. The paragraphs can vary in length (10-15 sentences) and should contain both text and a table in markdown format with at least *10* rows and *5* columns. The table should be present in just one paragraph. The context should be rich enough to allow for detailed questions and answers. Talk about competitors in the context. Be creative while creating the context and questions so that it is different every time. \n",
    "\n",
    "2. **Questions:** You need to create a list of complex questions based on the context. These questions should require deep reasoning, involve multiple references, or be based on the information in the table. Include questions for each of these types:\n",
    "- reasoning: questions that require synthesizing information from multiple paragraphs.\n",
    "- cannot answer: questions that cannot be answered with the provided context. Say \"I do not have the information to answer this question.\"\n",
    "- tabular: questions that specifically ask for information from the table. Generate 3 questions which require different operations.\n",
    "- extractive: questions that require extracting specific entities from the context.\n",
    "- math: questions that involve different type of relevant math calculations.\n",
    "\n",
    "3. **Answers:** Provide a concise answer based on the context for each question. If a question cannot be answered with the given information, state that you do not have the information. For math questions, show the calculations used to arrive at the answer.\n",
    "\n",
    "# Schema of yaml output\n",
    "Sector: $sector\n",
    "Company: $company_name\n",
    "Context: List[str] \n",
    "Questions : List[Tuple[type: str, question: str]] \n",
    "Answers: List[str]\n",
    "\n",
    "Don't generate anything after generating the YAML output.\n",
    "\"\"\")\n",
    "\n",
    "print(PROMPT.substitute({'sector' : sector, 'company_name' : company_name}))"
   ]
  },
  {
   "cell_type": "code",
   "execution_count": 75,
   "metadata": {},
   "outputs": [],
   "source": [
    "client = OpenAI()\n",
    "\n",
    "def get_data(sector, company_name, system, prompt, model):\n",
    "    return client.chat.completions.create(\n",
    "    model=model,\n",
    "    messages=[\n",
    "        {\n",
    "        \"role\": \"system\",\n",
    "        \"content\": [\n",
    "            {\n",
    "            \"text\": system,\n",
    "            \"type\": \"text\"\n",
    "            }\n",
    "        ]\n",
    "        },\n",
    "        {\n",
    "        \"role\": \"user\",\n",
    "        \"content\": [\n",
    "            {\n",
    "            \"text\": prompt,\n",
    "            \"type\": \"text\"\n",
    "            }\n",
    "        ]\n",
    "        }\n",
    "    ],\n",
    "    temperature=1.0,\n",
    "    max_tokens=4000,\n",
    "    top_p=1,\n",
    "    frequency_penalty=0,\n",
    "    presence_penalty=0,\n",
    "    response_format={\n",
    "        \"type\": \"text\"\n",
    "    }\n",
    "    )\n",
    "\n",
    "input = PROMPT.substitute({'sector' : sector, 'company_name' : company_name})\n",
    "response = get_data(*random.choice(companies), SYSTEM, input, model=MODEL)\n",
    "print(response.choices[0].message.content)"
   ]
  },
  {
   "cell_type": "markdown",
   "metadata": {},
   "source": [
    "### Create batches for generating synthetic data with GPT-4o"
   ]
  },
  {
   "cell_type": "code",
   "execution_count": 78,
   "metadata": {},
   "outputs": [
    {
     "name": "stderr",
     "output_type": "stream",
     "text": [
      "  0%|          | 0/5 [00:00<?, ?it/s]"
     ]
    },
    {
     "name": "stdout",
     "output_type": "stream",
     "text": [
      "../data/syn_data_rag/input/0.jsonl\n"
     ]
    },
    {
     "name": "stderr",
     "output_type": "stream",
     "text": [
      " 20%|██        | 1/5 [00:01<00:06,  1.74s/it]"
     ]
    },
    {
     "name": "stdout",
     "output_type": "stream",
     "text": [
      "../data/syn_data_rag/input/1.jsonl\n"
     ]
    },
    {
     "name": "stderr",
     "output_type": "stream",
     "text": [
      " 40%|████      | 2/5 [00:03<00:04,  1.55s/it]"
     ]
    },
    {
     "name": "stdout",
     "output_type": "stream",
     "text": [
      "../data/syn_data_rag/input/2.jsonl\n"
     ]
    },
    {
     "name": "stderr",
     "output_type": "stream",
     "text": [
      " 60%|██████    | 3/5 [00:04<00:02,  1.41s/it]"
     ]
    },
    {
     "name": "stdout",
     "output_type": "stream",
     "text": [
      "../data/syn_data_rag/input/3.jsonl\n"
     ]
    },
    {
     "name": "stderr",
     "output_type": "stream",
     "text": [
      " 80%|████████  | 4/5 [00:05<00:01,  1.23s/it]"
     ]
    },
    {
     "name": "stdout",
     "output_type": "stream",
     "text": [
      "../data/syn_data_rag/input/4.jsonl\n"
     ]
    },
    {
     "name": "stderr",
     "output_type": "stream",
     "text": [
      "100%|██████████| 5/5 [00:06<00:00,  1.31s/it]\n"
     ]
    }
   ],
   "source": [
    "for i in tqdm(range(5)):\n",
    "    # Create a file with requests\n",
    "    file_path = f\"../data/syn_data_rag/input/{i}.jsonl\"\n",
    "    print(file_path)\n",
    "    with open(file_path, \"w+\") as f:\n",
    "        for i in range(2000):\n",
    "            sector, company_name = random.choice(companies)\n",
    "            input = {\"custom_id\": str(i), \n",
    "                    \"method\": \"POST\", \"url\": \"/v1/chat/completions\", \n",
    "                    \"body\": {\"model\": MODEL, \n",
    "                            \"messages\": [{\"role\": \"system\", \"content\": SYSTEM},\n",
    "                                        {\"role\": \"user\", \"content\": PROMPT.substitute({'sector' : sector, 'company_name' : company_name})}],\n",
    "                            \"max_tokens\": 5000,\n",
    "                            \"temperature\": 1.0,}}\n",
    "            f.write(json.dumps(input))\n",
    "            f.write(\"\\n\")\n",
    "    \n",
    "    # Upload the file to OpenAI            \n",
    "    batch_input_file_id = client.files.create(\n",
    "    file=open(file_path, \"rb\"),\n",
    "    purpose=\"batch\"\n",
    "    ).id\n",
    "    \n",
    "    # Create a batch\n",
    "    client.batches.create(\n",
    "        input_file_id=batch_input_file_id,\n",
    "        endpoint=\"/v1/chat/completions\",\n",
    "        completion_window=\"24h\",\n",
    "        metadata={\n",
    "        \"description\": f\"synthetic data {i}\"\n",
    "        }\n",
    "    )"
   ]
  },
  {
   "cell_type": "code",
   "execution_count": 81,
   "metadata": {},
   "outputs": [
    {
     "data": {
      "text/plain": [
       "{'id': 'batch_uxYswjyWz88KH5Q4X0O6gTkR',\n",
       " 'completion_window': '24h',\n",
       " 'created_at': 1724232268,\n",
       " 'endpoint': '/v1/chat/completions',\n",
       " 'input_file_id': 'file-w2yMjIvUoZagp6d0yzCRRamG',\n",
       " 'object': 'batch',\n",
       " 'status': 'completed',\n",
       " 'cancelled_at': None,\n",
       " 'cancelling_at': None,\n",
       " 'completed_at': 1724233617,\n",
       " 'error_file_id': None,\n",
       " 'errors': None,\n",
       " 'expired_at': None,\n",
       " 'expires_at': 1724318668,\n",
       " 'failed_at': None,\n",
       " 'finalizing_at': 1724233512,\n",
       " 'in_progress_at': 1724232270,\n",
       " 'metadata': {'description': 'synthetic data 0'},\n",
       " 'output_file_id': 'file-kNQ1IFgwmmKyDPyVNjZ6Hc94',\n",
       " 'request_counts': BatchRequestCounts(completed=2000, failed=0, total=2000)}"
      ]
     },
     "execution_count": 81,
     "metadata": {},
     "output_type": "execute_result"
    }
   ],
   "source": [
    "dict(client.batches.list(limit=5).data[4])"
   ]
  },
  {
   "cell_type": "code",
   "execution_count": null,
   "metadata": {},
   "outputs": [],
   "source": [
    "output_file_id = client.batches.retrieve(\"batch_IxzjwViEMKxbwbPhjDfzzzsf\").output_file_id\n",
    "file_response = client.files.content(output_file_id)\n",
    "with open(\"../data/syn_data_rag/output/test.jsonl\", \"w+\") as f:\n",
    "    f.write(file_response.text)"
   ]
  },
  {
   "cell_type": "markdown",
   "metadata": {},
   "source": [
    "### Create prompts and responses using the prompt and outputs"
   ]
  },
  {
   "cell_type": "markdown",
   "metadata": {},
   "source": [
    "#### Output schema validation"
   ]
  },
  {
   "cell_type": "code",
   "execution_count": 16,
   "metadata": {},
   "outputs": [],
   "source": [
    "from typing import List\n",
    "from pydantic import BaseModel, ValidationError\n",
    "\n",
    "class Question(BaseModel):\n",
    "    type: str\n",
    "    question: str\n",
    "\n",
    "class Schema(BaseModel):\n",
    "    Sector: str\n",
    "    Company: str\n",
    "    Context: List[str]\n",
    "    Questions: List[Question]\n",
    "    Answers: List[str]\n",
    "\n",
    "def validate_dict(data: dict) -> bool:\n",
    "    try:\n",
    "        validated_data = Schema(**data)\n",
    "        return True\n",
    "    except ValidationError as e:\n",
    "        # print(e.json())\n",
    "        return False"
   ]
  },
  {
   "cell_type": "markdown",
   "metadata": {},
   "source": [
    "#### Prompt formatting"
   ]
  },
  {
   "cell_type": "code",
   "execution_count": 26,
   "metadata": {},
   "outputs": [],
   "source": [
    "def get_context_for_prompt(x):\n",
    "    context = ''\n",
    "    for i, p in enumerate(x):\n",
    "        context += f\"\\n{i+1}. {p}\"\n",
    "    return context\n",
    "\n",
    "instruction = \"Answer the question using the information in the context.\"\n",
    "template = \"\"\"Context: {context}\n",
    "\n",
    "Task: {instruction}\n",
    "Question: {question}\"\"\""
   ]
  },
  {
   "cell_type": "markdown",
   "metadata": {},
   "source": [
    "#### Data transformation"
   ]
  },
  {
   "cell_type": "code",
   "execution_count": 27,
   "metadata": {},
   "outputs": [
    {
     "data": {
      "text/html": [
       "<div>\n",
       "<style scoped>\n",
       "    .dataframe tbody tr th:only-of-type {\n",
       "        vertical-align: middle;\n",
       "    }\n",
       "\n",
       "    .dataframe tbody tr th {\n",
       "        vertical-align: top;\n",
       "    }\n",
       "\n",
       "    .dataframe thead th {\n",
       "        text-align: right;\n",
       "    }\n",
       "</style>\n",
       "<table border=\"1\" class=\"dataframe\">\n",
       "  <thead>\n",
       "    <tr style=\"text-align: right;\">\n",
       "      <th></th>\n",
       "      <th>sector</th>\n",
       "      <th>company</th>\n",
       "      <th>context</th>\n",
       "      <th>question_type</th>\n",
       "      <th>question</th>\n",
       "      <th>answer</th>\n",
       "      <th>prompt</th>\n",
       "    </tr>\n",
       "  </thead>\n",
       "  <tbody>\n",
       "    <tr>\n",
       "      <th>0</th>\n",
       "      <td>Financials</td>\n",
       "      <td>Everest Re</td>\n",
       "      <td>\\n1. The company's management stated that the ...</td>\n",
       "      <td>reasoning</td>\n",
       "      <td>How does Everest Re's approach to digital infr...</td>\n",
       "      <td>Everest Re is investing 20% more in its digita...</td>\n",
       "      <td>Context: \\n1. The company's management stated ...</td>\n",
       "    </tr>\n",
       "    <tr>\n",
       "      <th>1</th>\n",
       "      <td>Financials</td>\n",
       "      <td>Everest Re</td>\n",
       "      <td>\\n1. Everest Re's competitors, such as Munich ...</td>\n",
       "      <td>cannot answer</td>\n",
       "      <td>What is Everest Re's projected dividend yield ...</td>\n",
       "      <td>I do not have the information to answer this q...</td>\n",
       "      <td>Context: \\n1. Everest Re's competitors, such a...</td>\n",
       "    </tr>\n",
       "    <tr>\n",
       "      <th>2</th>\n",
       "      <td>Financials</td>\n",
       "      <td>Everest Re</td>\n",
       "      <td>\\n1. Looking ahead, Everest Re has ambitious p...</td>\n",
       "      <td>tabular</td>\n",
       "      <td>What was the percentage change in Everest Re's...</td>\n",
       "      <td>The percentage change in net income was 30%, s...</td>\n",
       "      <td>Context: \\n1. Looking ahead, Everest Re has am...</td>\n",
       "    </tr>\n",
       "    <tr>\n",
       "      <th>3</th>\n",
       "      <td>Financials</td>\n",
       "      <td>Everest Re</td>\n",
       "      <td>\\n1. Everest Re's Corporate Responsibility ini...</td>\n",
       "      <td>tabular</td>\n",
       "      <td>Calculate the difference in claims payouts bet...</td>\n",
       "      <td>The claims payouts increased by $50M (650 to 7...</td>\n",
       "      <td>Context: \\n1. Everest Re's Corporate Responsib...</td>\n",
       "    </tr>\n",
       "    <tr>\n",
       "      <th>4</th>\n",
       "      <td>Financials</td>\n",
       "      <td>Everest Re</td>\n",
       "      <td>\\n1. The macroeconomic environment poses both ...</td>\n",
       "      <td>tabular</td>\n",
       "      <td>Identify the financial parameter with the high...</td>\n",
       "      <td>Underwriting Profit has the highest percentage...</td>\n",
       "      <td>Context: \\n1. The macroeconomic environment po...</td>\n",
       "    </tr>\n",
       "  </tbody>\n",
       "</table>\n",
       "</div>"
      ],
      "text/plain": [
       "       sector     company                                            context  \\\n",
       "0  Financials  Everest Re  \\n1. The company's management stated that the ...   \n",
       "1  Financials  Everest Re  \\n1. Everest Re's competitors, such as Munich ...   \n",
       "2  Financials  Everest Re  \\n1. Looking ahead, Everest Re has ambitious p...   \n",
       "3  Financials  Everest Re  \\n1. Everest Re's Corporate Responsibility ini...   \n",
       "4  Financials  Everest Re  \\n1. The macroeconomic environment poses both ...   \n",
       "\n",
       "   question_type                                           question  \\\n",
       "0      reasoning  How does Everest Re's approach to digital infr...   \n",
       "1  cannot answer  What is Everest Re's projected dividend yield ...   \n",
       "2        tabular  What was the percentage change in Everest Re's...   \n",
       "3        tabular  Calculate the difference in claims payouts bet...   \n",
       "4        tabular  Identify the financial parameter with the high...   \n",
       "\n",
       "                                              answer  \\\n",
       "0  Everest Re is investing 20% more in its digita...   \n",
       "1  I do not have the information to answer this q...   \n",
       "2  The percentage change in net income was 30%, s...   \n",
       "3  The claims payouts increased by $50M (650 to 7...   \n",
       "4  Underwriting Profit has the highest percentage...   \n",
       "\n",
       "                                              prompt  \n",
       "0  Context: \\n1. The company's management stated ...  \n",
       "1  Context: \\n1. Everest Re's competitors, such a...  \n",
       "2  Context: \\n1. Looking ahead, Everest Re has am...  \n",
       "3  Context: \\n1. Everest Re's Corporate Responsib...  \n",
       "4  Context: \\n1. The macroeconomic environment po...  "
      ]
     },
     "execution_count": 27,
     "metadata": {},
     "output_type": "execute_result"
    }
   ],
   "source": [
    "# read the file\n",
    "with open(\"../data/syn_data_rag/output/test.jsonl\", \"r\") as f:\n",
    "    data = f.readlines()\n",
    "\n",
    "# parse the data\n",
    "data_formatted = []\n",
    "for line in data:\n",
    "    d = json.loads(line)['response']['body']['choices'][0]['message']['content'].replace(\"```yaml\\n\", \"\").replace(\"\\n```\", \"\")\n",
    "    try:\n",
    "        d = yaml.load(d, Loader=yaml.FullLoader)\n",
    "        if validate_dict(d):\n",
    "            for question, answer in zip(d['Questions'], d['Answers']):\n",
    "                random.shuffle(d['Context']) # shuffle every time to create variability\n",
    "                context = get_context_for_prompt(d['Context'])\n",
    "                data_formatted.append((d['Sector'], d['Company'], context,  question['type'], question['question'], answer))\n",
    "    except:\n",
    "        pass\n",
    "\n",
    "# create a dataframe\n",
    "df = pd.DataFrame(data_formatted, columns=['sector', 'company', 'context', 'question_type', 'question', 'answer'])\n",
    "df[\"prompt\"] = df.apply(lambda x: template.format(instruction=instruction, question=x[\"question\"], context=x[\"context\"]), axis=1)\n",
    "df.head()"
   ]
  },
  {
   "cell_type": "code",
   "execution_count": 28,
   "metadata": {},
   "outputs": [
    {
     "data": {
      "text/plain": [
       "question_type\n",
       "tabular          2220\n",
       "math             1501\n",
       "extractive       1322\n",
       "reasoning         801\n",
       "cannot answer     744\n",
       "cannot_answer      19\n",
       "Name: count, dtype: int64"
      ]
     },
     "execution_count": 28,
     "metadata": {},
     "output_type": "execute_result"
    }
   ],
   "source": [
    "df.question_type.value_counts()"
   ]
  },
  {
   "cell_type": "code",
   "execution_count": 29,
   "metadata": {},
   "outputs": [
    {
     "data": {
      "text/plain": [
       "sector\n",
       "Financials                1062\n",
       "Information Technology     979\n",
       "Industrials                855\n",
       "Health Care                770\n",
       "Consumer Discretionary     679\n",
       "Technology                 407\n",
       "Energy                     385\n",
       "Consumer Staples           377\n",
       "Real Estate                377\n",
       "Utilities                  277\n",
       "Communication Services     253\n",
       "Materials                  177\n",
       "Tech                         9\n",
       "Name: count, dtype: int64"
      ]
     },
     "execution_count": 29,
     "metadata": {},
     "output_type": "execute_result"
    }
   ],
   "source": [
    "df.sector.value_counts()"
   ]
  },
  {
   "cell_type": "code",
   "execution_count": 30,
   "metadata": {},
   "outputs": [
    {
     "data": {
      "text/plain": [
       "company\n",
       "Microsoft                  63\n",
       "American Tower             56\n",
       "PayPal                     56\n",
       "News Corp (Class B)        50\n",
       "Snap-on                    50\n",
       "                           ..\n",
       "Ansys                       7\n",
       "TechSphere Inc              7\n",
       "QuantumTech Innovations     7\n",
       "Altria                      7\n",
       "Textron                     7\n",
       "Name: count, Length: 408, dtype: int64"
      ]
     },
     "execution_count": 30,
     "metadata": {},
     "output_type": "execute_result"
    }
   ],
   "source": [
    "df.company.value_counts()"
   ]
  },
  {
   "cell_type": "code",
   "execution_count": 31,
   "metadata": {},
   "outputs": [],
   "source": [
    "df.to_parquet(\"../data/syn_data_rag/output/test.parquet\", index=False)"
   ]
  },
  {
   "cell_type": "code",
   "execution_count": null,
   "metadata": {},
   "outputs": [],
   "source": []
  }
 ],
 "metadata": {
  "kernelspec": {
   "display_name": "v2",
   "language": "python",
   "name": "python3"
  },
  "language_info": {
   "codemirror_mode": {
    "name": "ipython",
    "version": 3
   },
   "file_extension": ".py",
   "mimetype": "text/x-python",
   "name": "python",
   "nbconvert_exporter": "python",
   "pygments_lexer": "ipython3",
   "version": "3.11.8"
  }
 },
 "nbformat": 4,
 "nbformat_minor": 2
}
