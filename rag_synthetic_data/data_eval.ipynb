{
 "cells": [
  {
   "cell_type": "code",
   "execution_count": 1,
   "metadata": {},
   "outputs": [
    {
     "name": "stdout",
     "output_type": "stream",
     "text": [
      "👋 You have logged into 🔭 Galileo (https://console.demo.rungalileo.io/) as pratik@rungalileo.io.\n"
     ]
    },
    {
     "data": {
      "text/plain": [
       "Config(console_url=Url('https://console.demo.rungalileo.io/'), username='pratik@rungalileo.io', password=SecretStr('**********'), api_key=None, token=SecretStr('**********'), current_user='pratik@rungalileo.io', current_project_id=None, current_project_name=None, current_run_id=None, current_run_name=None, current_run_url=None, current_run_task_type=None, current_template_id=None, current_template_name=None, current_template_version_id=None, current_template_version=None, current_template=None, current_dataset_id=None, current_job_id=None, current_prompt_optimization_job_id=None, api_url=Url('https://api.demo.rungalileo.io/'))"
      ]
     },
     "execution_count": 1,
     "metadata": {},
     "output_type": "execute_result"
    }
   ],
   "source": [
    "import time\n",
    "from uuid import uuid4\n",
    "\n",
    "from dotenv import load_dotenv\n",
    "import pandas as pd\n",
    "import promptquality as pq\n",
    "from promptquality import NodeType, NodeRow\n",
    "\n",
    "\n",
    "load_dotenv(\"../.env\")\n",
    "pq.login('https://console.demo.rungalileo.io')"
   ]
  },
  {
   "cell_type": "code",
   "execution_count": 2,
   "metadata": {},
   "outputs": [
    {
     "data": {
      "text/html": [
       "<div>\n",
       "<style scoped>\n",
       "    .dataframe tbody tr th:only-of-type {\n",
       "        vertical-align: middle;\n",
       "    }\n",
       "\n",
       "    .dataframe tbody tr th {\n",
       "        vertical-align: top;\n",
       "    }\n",
       "\n",
       "    .dataframe thead th {\n",
       "        text-align: right;\n",
       "    }\n",
       "</style>\n",
       "<table border=\"1\" class=\"dataframe\">\n",
       "  <thead>\n",
       "    <tr style=\"text-align: right;\">\n",
       "      <th></th>\n",
       "      <th>sector</th>\n",
       "      <th>company</th>\n",
       "      <th>context</th>\n",
       "      <th>question_type</th>\n",
       "      <th>question</th>\n",
       "      <th>answer</th>\n",
       "      <th>prompt</th>\n",
       "    </tr>\n",
       "  </thead>\n",
       "  <tbody>\n",
       "    <tr>\n",
       "      <th>1830</th>\n",
       "      <td>Consumer Staples</td>\n",
       "      <td>J.M. Smucker Company (The)</td>\n",
       "      <td>\\n1. During the quarter, Smucker’s investments...</td>\n",
       "      <td>tabular</td>\n",
       "      <td>How much more did Smucker spend on marketing f...</td>\n",
       "      <td>Smucker spent $120 million on marketing for th...</td>\n",
       "      <td>Context: \\n1. During the quarter, Smucker’s in...</td>\n",
       "    </tr>\n",
       "    <tr>\n",
       "      <th>994</th>\n",
       "      <td>Industrials</td>\n",
       "      <td>CH Robinson</td>\n",
       "      <td>\\n1. The company's focus on sustainability ini...</td>\n",
       "      <td>math</td>\n",
       "      <td>By how much did CH Robinson reduce its carbon ...</td>\n",
       "      <td>CH Robinson reduced its carbon emissions by 15...</td>\n",
       "      <td>Context: \\n1. The company's focus on sustainab...</td>\n",
       "    </tr>\n",
       "    <tr>\n",
       "      <th>6290</th>\n",
       "      <td>Technology</td>\n",
       "      <td>Tech Innovations Inc.</td>\n",
       "      <td>\\n1. Looking forward, Tech Innovations Inc. ai...</td>\n",
       "      <td>cannot answer</td>\n",
       "      <td>What was Tech Innovations Inc.'s revenue from ...</td>\n",
       "      <td>I do not have the information to answer this q...</td>\n",
       "      <td>Context: \\n1. Looking forward, Tech Innovation...</td>\n",
       "    </tr>\n",
       "    <tr>\n",
       "      <th>3848</th>\n",
       "      <td>Consumer Staples</td>\n",
       "      <td>Keurig Dr Pepper</td>\n",
       "      <td>\\n1. A new marketing initiative saw Keurig Dr ...</td>\n",
       "      <td>extractive</td>\n",
       "      <td>Which new product did PepsiCo introduce that b...</td>\n",
       "      <td>Pepsi Cafe is the new product introduced by Pe...</td>\n",
       "      <td>Context: \\n1. A new marketing initiative saw K...</td>\n",
       "    </tr>\n",
       "    <tr>\n",
       "      <th>3296</th>\n",
       "      <td>Information Technology</td>\n",
       "      <td>Tech Innovators Inc.</td>\n",
       "      <td>\\n1. Looking ahead, Tech Innovators is optimis...</td>\n",
       "      <td>tabular</td>\n",
       "      <td>What was the percentage increase in Tech Innov...</td>\n",
       "      <td>The percentage increase in Market Share from Q...</td>\n",
       "      <td>Context: \\n1. Looking ahead, Tech Innovators i...</td>\n",
       "    </tr>\n",
       "  </tbody>\n",
       "</table>\n",
       "</div>"
      ],
      "text/plain": [
       "                      sector                     company  \\\n",
       "1830        Consumer Staples  J.M. Smucker Company (The)   \n",
       "994              Industrials                 CH Robinson   \n",
       "6290              Technology       Tech Innovations Inc.   \n",
       "3848        Consumer Staples            Keurig Dr Pepper   \n",
       "3296  Information Technology        Tech Innovators Inc.   \n",
       "\n",
       "                                                context  question_type  \\\n",
       "1830  \\n1. During the quarter, Smucker’s investments...        tabular   \n",
       "994   \\n1. The company's focus on sustainability ini...           math   \n",
       "6290  \\n1. Looking forward, Tech Innovations Inc. ai...  cannot answer   \n",
       "3848  \\n1. A new marketing initiative saw Keurig Dr ...     extractive   \n",
       "3296  \\n1. Looking ahead, Tech Innovators is optimis...        tabular   \n",
       "\n",
       "                                               question  \\\n",
       "1830  How much more did Smucker spend on marketing f...   \n",
       "994   By how much did CH Robinson reduce its carbon ...   \n",
       "6290  What was Tech Innovations Inc.'s revenue from ...   \n",
       "3848  Which new product did PepsiCo introduce that b...   \n",
       "3296  What was the percentage increase in Tech Innov...   \n",
       "\n",
       "                                                 answer  \\\n",
       "1830  Smucker spent $120 million on marketing for th...   \n",
       "994   CH Robinson reduced its carbon emissions by 15...   \n",
       "6290  I do not have the information to answer this q...   \n",
       "3848  Pepsi Cafe is the new product introduced by Pe...   \n",
       "3296  The percentage increase in Market Share from Q...   \n",
       "\n",
       "                                                 prompt  \n",
       "1830  Context: \\n1. During the quarter, Smucker’s in...  \n",
       "994   Context: \\n1. The company's focus on sustainab...  \n",
       "6290  Context: \\n1. Looking forward, Tech Innovation...  \n",
       "3848  Context: \\n1. A new marketing initiative saw K...  \n",
       "3296  Context: \\n1. Looking ahead, Tech Innovators i...  "
      ]
     },
     "execution_count": 2,
     "metadata": {},
     "output_type": "execute_result"
    }
   ],
   "source": [
    "project_name = \"rag-syn-data-cleaning\"\n",
    "run_name=\"gpt-4o-2024-08-06-v1\"\n",
    "\n",
    "config = {\n",
    "    \"groundedness\": True,\n",
    "    \"toxicity\": False,\n",
    "    \"factuality\": False,\n",
    "    \"context_relevance\": False,\n",
    "    \"sexist\": False,\n",
    "    \"pii\": False,\n",
    "    \"prompt_perplexity\": False,\n",
    "    \"chunk_attribution_utilization_gpt\": False,\n",
    "    \"completeness_gpt\": False,\n",
    "    \"tone\": False,\n",
    "    \"prompt_injection\": False\n",
    "  }\n",
    "\n",
    "df = pd.read_parquet(\"../data/syn_data_rag/output/test.parquet\").sample(1000, random_state=0)\n",
    "df.head()"
   ]
  },
  {
   "cell_type": "code",
   "execution_count": 3,
   "metadata": {},
   "outputs": [
    {
     "name": "stdout",
     "output_type": "stream",
     "text": [
      "Context: \n",
      "1. During the quarter, Smucker’s investments in e-commerce have paid off, with online sales growing by 25%. The company is enhancing its digital infrastructure to provide a seamless purchasing experience. Competitors such as Nestlé have also been strengthening their e-commerce capabilities, signaling a shift in consumer buying behavior towards online platforms.\n",
      "2. In terms of financial health, the company has reduced its operating expenses by 3% compared to the previous year. This reduction is part of an overall cost optimization initiative aimed at increasing profitability. General administrative expenses remain unchanged, while marketing and R&D expenses have seen slight increases to support brand innovation and growth.\n",
      "3. With the rise in consumer demand for transparency in food sourcing, Smucker has been actively engaging in sustainable sourcing initiatives. This move not only aligns with consumer expectations but also strengthens the company's brand equity. Competitors like General Mills are also heavily investing in this area, bringing additional pressure on Smucker to innovate and lead.\n",
      "4. Despite the challenges in the competitive landscape, Smucker remains optimistic about its growth prospects. The leadership is focusing on innovation, sustainability, and community engagement as key elements of its long-term strategy. They are committed to reducing the environmental impact of their operations and are exploring partnerships with sustainability-focused organizations.\n",
      "5. The pet food division was a standout, contributing substantially to the company's growth. The division saw a 12% increase in sales, attributed to the popularization of premium and natural pet food offerings. General Mills has recently increased its marketing spend on healthy pet food, putting pressure on Smucker to maintain its market position. The company believes that its strong brand loyalty and diversification in product lines give it an edge.\n",
      "6. Markdown Table Insights:\n",
      "\n",
      "| Division         | Revenue Q1 (in millions) | Revenue Q2 (in millions) | Revenue Growth Rate (%) | Marketing Spend (in millions) | Competitors              |\n",
      "|------------------|--------------------------|--------------------------|--------------------------|-------------------------------|--------------------------|\n",
      "| Pet Food         | 750                      | 840                      | 12%                      | 120                           | General Mills, Nestlé    |\n",
      "| Consumer Foods   | 500                      | 530                      | 6%                       | 80                            | Kellogg's, Nestlé       |\n",
      "| Coffee           | 300                      | 310                      | 3.33%                    | 50                            | Starbucks, Dunkin'      |\n",
      "| Snacks           | 200                      | 230                      | 15%                      | 60                            | PepsiCo, Mondelez       |\n",
      "| International    | 150                      | 160                      | 6.67%                    | 40                            | Unilever, Kraft Heinz   |\n",
      "| Beverages        | 180                      | 185                      | 2.78%                    | 30                            | Coca-Cola, PepsiCo     |\n",
      "| Frozen Foods     | 100                      | 105                      | 5%                       | 35                            | Conagra, Tyson Foods    |\n",
      "| Dairy Products   | 60                       | 64                       | 6.67%                    | 25                            | Danone, Nestlé         |\n",
      "| Grain Products   | 40                       | 41                       | 2.5%                     | 15                            | General Mills, Kellogg's|\n",
      "| Condiments       | 90                       | 92                       | 2.22%                    | 20                            | Heinz, Kraft Foods     |\n",
      "\n",
      "7. The international markets have been a minor contributor to Smucker’s total revenue, but recent initiatives aim to change that narrative. Smucker is entering new markets in Asia and Europe, with a focus on local product adaptation to meet diverse consumer preferences. The company's international team has been expanded to support these efforts.\n",
      "8. The J.M. Smucker Company reported a solid quarter with a 7% year-over-year increase in revenue driven by strong performances in its pet food and consumer foods divisions. The company continues to strategize on expanding its product lines and has been enhancing its supply chain operations to improve efficiency. They face significant competition from companies like General Mills and Nestlé, which are also making strides in the pet food market. Smucker has been focusing on introducing organic options and leveraging e-commerce platforms to drive sales.\n",
      "9. Smucker’s newly launched coffee and snack brands are beginning to gain traction in the competitive food service environment. According to Nielsen data, the snack brand has captured a 5% market share within six months of its launch. Despite this, they are mindful of competition from PepsiCo and Mondelez International, both of which have well-established snack portfolios. Smucker is investing in digital marketing to bolster brand visibility.\n",
      "\n",
      "Task: Answer the question using the information in the context.\n",
      "Question: How much more did Smucker spend on marketing for the pet food division compared to the coffee division?\n"
     ]
    }
   ],
   "source": [
    "print(df.prompt.values[0])"
   ]
  },
  {
   "cell_type": "code",
   "execution_count": 4,
   "metadata": {},
   "outputs": [
    {
     "data": {
      "application/vnd.jupyter.widget-view+json": {
       "model_id": "282850e1bf68410fbbfb2e4cb43a661d",
       "version_major": 2,
       "version_minor": 0
      },
      "text/plain": [
       "Processing chain run...:   0%|          | 0/5 [00:00<?, ?it/s]"
      ]
     },
     "metadata": {},
     "output_type": "display_data"
    },
    {
     "name": "stdout",
     "output_type": "stream",
     "text": [
      "Initial job complete, executing scorers asynchronously. Current status:\n",
      "cost: Computing 🚧\n",
      "protect_status: Done ✅\n",
      "latency: Done ✅\n",
      "groundedness: Computing 🚧\n",
      "🔭 View your prompt run on the Galileo console at: https://console.demo.rungalileo.io/prompt/chains/cc3568f4-ad31-4109-b5ba-f075276775a5/a2d786ce-3891-4336-9134-7eac69770ea7?taskType=12\n"
     ]
    }
   ],
   "source": [
    "# create nodes\n",
    "nodes = []\n",
    "for prompt, response in zip(df.prompt, df.answer):\n",
    "    root_id = uuid4()\n",
    "    llm_id = uuid4()\n",
    "    \n",
    "    nodes.append(NodeRow(\n",
    "                node_id=root_id, \n",
    "                chain_root_id=root_id, \n",
    "                node_type=NodeType.chain, \n",
    "                step=0, \n",
    "                node_input=prompt, \n",
    "                node_output=response,\n",
    "            ))\n",
    "    nodes.append(NodeRow(\n",
    "                node_id=llm_id, \n",
    "                chain_root_id=root_id, \n",
    "                chain_id=root_id,\n",
    "                node_type=NodeType.llm, \n",
    "                step=1, \n",
    "                node_input=prompt, \n",
    "                node_output=response,\n",
    "            ))\n",
    "\n",
    "# push to galileo\n",
    "pq.chain_run(\n",
    "    rows=nodes,\n",
    "    scorers_config=pq.ScorersConfiguration(**config),\n",
    "    project_name=project_name,\n",
    "    run_name=run_name\n",
    ")\n",
    "time.sleep(30)"
   ]
  },
  {
   "cell_type": "code",
   "execution_count": null,
   "metadata": {},
   "outputs": [],
   "source": []
  }
 ],
 "metadata": {
  "kernelspec": {
   "display_name": "v2",
   "language": "python",
   "name": "python3"
  },
  "language_info": {
   "codemirror_mode": {
    "name": "ipython",
    "version": 3
   },
   "file_extension": ".py",
   "mimetype": "text/x-python",
   "name": "python",
   "nbconvert_exporter": "python",
   "pygments_lexer": "ipython3",
   "version": "3.11.8"
  }
 },
 "nbformat": 4,
 "nbformat_minor": 2
}
