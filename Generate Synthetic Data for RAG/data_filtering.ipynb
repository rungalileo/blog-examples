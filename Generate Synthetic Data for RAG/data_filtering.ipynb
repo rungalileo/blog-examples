{
 "cells": [
  {
   "cell_type": "code",
   "execution_count": 1,
   "metadata": {},
   "outputs": [
    {
     "name": "stdout",
     "output_type": "stream",
     "text": [
      "👋 You have logged into 🔭 Galileo (https://console.demo.rungalileo.io/) as pratik@rungalileo.io.\n"
     ]
    },
    {
     "data": {
      "text/plain": [
       "Config(console_url=Url('https://console.demo.rungalileo.io/'), username='pratik@rungalileo.io', password=SecretStr('**********'), api_key=None, token=SecretStr('**********'), current_user='pratik@rungalileo.io', current_project_id=None, current_project_name=None, current_run_id=None, current_run_name=None, current_run_url=None, current_run_task_type=None, current_template_id=None, current_template_name=None, current_template_version_id=None, current_template_version=None, current_template=None, current_dataset_id=None, current_job_id=None, current_prompt_optimization_job_id=None, api_url=Url('https://api.demo.rungalileo.io/'))"
      ]
     },
     "execution_count": 1,
     "metadata": {},
     "output_type": "execute_result"
    }
   ],
   "source": [
    "from dotenv import load_dotenv\n",
    "import pandas as pd\n",
    "import promptquality as pq\n",
    "\n",
    "load_dotenv(\"../.env\")\n",
    "pq.login('https://console.demo.rungalileo.io')"
   ]
  },
  {
   "cell_type": "code",
   "execution_count": 20,
   "metadata": {},
   "outputs": [
    {
     "name": "stdout",
     "output_type": "stream",
     "text": [
      "Getting data for rag-syn-data-cleaning: gpt-4o-2024-08-06-v1\n"
     ]
    },
    {
     "data": {
      "text/html": [
       "<div>\n",
       "<style scoped>\n",
       "    .dataframe tbody tr th:only-of-type {\n",
       "        vertical-align: middle;\n",
       "    }\n",
       "\n",
       "    .dataframe tbody tr th {\n",
       "        vertical-align: top;\n",
       "    }\n",
       "\n",
       "    .dataframe thead th {\n",
       "        text-align: right;\n",
       "    }\n",
       "</style>\n",
       "<table border=\"1\" class=\"dataframe\">\n",
       "  <thead>\n",
       "    <tr style=\"text-align: right;\">\n",
       "      <th></th>\n",
       "      <th>prompt</th>\n",
       "      <th>response</th>\n",
       "      <th>context_adherence</th>\n",
       "    </tr>\n",
       "  </thead>\n",
       "  <tbody>\n",
       "    <tr>\n",
       "      <th>0</th>\n",
       "      <td>Context: \\n1. During the quarter, Smucker’s in...</td>\n",
       "      <td>Smucker spent $120 million on marketing for th...</td>\n",
       "      <td>1.0</td>\n",
       "    </tr>\n",
       "    <tr>\n",
       "      <th>1</th>\n",
       "      <td>Context: \\n1. The company's focus on sustainab...</td>\n",
       "      <td>CH Robinson reduced its carbon emissions by 15...</td>\n",
       "      <td>1.0</td>\n",
       "    </tr>\n",
       "    <tr>\n",
       "      <th>2</th>\n",
       "      <td>Context: \\n1. Looking forward, Tech Innovation...</td>\n",
       "      <td>I do not have the information to answer this q...</td>\n",
       "      <td>1.0</td>\n",
       "    </tr>\n",
       "    <tr>\n",
       "      <th>3</th>\n",
       "      <td>Context: \\n1. A new marketing initiative saw K...</td>\n",
       "      <td>Pepsi Cafe is the new product introduced by Pe...</td>\n",
       "      <td>1.0</td>\n",
       "    </tr>\n",
       "    <tr>\n",
       "      <th>4</th>\n",
       "      <td>Context: \\n1. Looking ahead, Tech Innovators i...</td>\n",
       "      <td>The percentage increase in Market Share from Q...</td>\n",
       "      <td>1.0</td>\n",
       "    </tr>\n",
       "  </tbody>\n",
       "</table>\n",
       "</div>"
      ],
      "text/plain": [
       "                                              prompt  \\\n",
       "0  Context: \\n1. During the quarter, Smucker’s in...   \n",
       "1  Context: \\n1. The company's focus on sustainab...   \n",
       "2  Context: \\n1. Looking forward, Tech Innovation...   \n",
       "3  Context: \\n1. A new marketing initiative saw K...   \n",
       "4  Context: \\n1. Looking ahead, Tech Innovators i...   \n",
       "\n",
       "                                            response  context_adherence  \n",
       "0  Smucker spent $120 million on marketing for th...                1.0  \n",
       "1  CH Robinson reduced its carbon emissions by 15...                1.0  \n",
       "2  I do not have the information to answer this q...                1.0  \n",
       "3  Pepsi Cafe is the new product introduced by Pe...                1.0  \n",
       "4  The percentage increase in Market Share from Q...                1.0  "
      ]
     },
     "execution_count": 20,
     "metadata": {},
     "output_type": "execute_result"
    }
   ],
   "source": [
    "project_name = \"rag-syn-data-cleaning\"\n",
    "run_name=\"gpt-4o-2024-08-06-v1\"\n",
    "\n",
    "def get_run_data(project_name, run_name):\n",
    "    print(f\"Getting data for {project_name}: {run_name}\")\n",
    "    project_id = pq.get_project_from_name(project_name).id\n",
    "    run_id = pq.get_run_from_name(run_name, project_id).id\n",
    "    rows = pq.get_rows(project_id=project_id, run_id=run_id, task_type=None, config=None, starting_token=0, limit=10000)\n",
    "    rows = [row for row in rows if row.has_children]\n",
    "    context_adherence_scores = [row.metrics.context_adherence for row in rows]\n",
    "    prompts = [row.node_input for row in rows]\n",
    "    responses = [row.node_output for row in rows]\n",
    "    return pd.DataFrame({\"prompt\": prompts, \"response\": responses, \"context_adherence\": context_adherence_scores})\n",
    "        \n",
    "df = get_run_data(project_name, run_name)\n",
    "df.head()"
   ]
  },
  {
   "cell_type": "code",
   "execution_count": 21,
   "metadata": {},
   "outputs": [
    {
     "data": {
      "text/plain": [
       "<Axes: >"
      ]
     },
     "execution_count": 21,
     "metadata": {},
     "output_type": "execute_result"
    },
    {
     "data": {
      "image/png": "[encoded data removed]",
      "text/plain": [
       "<Figure size 640x480 with 1 Axes>"
      ]
     },
     "metadata": {},
     "output_type": "display_data"
    }
   ],
   "source": [
    "# scatter plot\n",
    "df.context_adherence.hist()"
   ]
  },
  {
   "cell_type": "code",
   "execution_count": 22,
   "metadata": {},
   "outputs": [
    {
     "name": "stdout",
     "output_type": "stream",
     "text": [
      "1000\n",
      "872\n"
     ]
    }
   ],
   "source": [
    "print(len(df))\n",
    "df = df[df.context_adherence > 0.8]\n",
    "print(len(df))"
   ]
  },
  {
   "cell_type": "code",
   "execution_count": 23,
   "metadata": {},
   "outputs": [],
   "source": [
    "df.to_parquet(\"../data/syn_data_rag/filtered/data.parquet\", index=False)"
   ]
  }
 ],
 "metadata": {
  "kernelspec": {
   "display_name": "v2",
   "language": "python",
   "name": "python3"
  },
  "language_info": {
   "codemirror_mode": {
    "name": "ipython",
    "version": 3
   },
   "file_extension": ".py",
   "mimetype": "text/x-python",
   "name": "python",
   "nbconvert_exporter": "python",
   "pygments_lexer": "ipython3",
   "version": "3.11.8"
  }
 },
 "nbformat": 4,
 "nbformat_minor": 2
}
