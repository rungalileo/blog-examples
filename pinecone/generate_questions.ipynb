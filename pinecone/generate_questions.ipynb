{
 "cells": [
  {
   "cell_type": "code",
   "execution_count": 1,
   "metadata": {},
   "outputs": [
    {
     "data": {
      "text/plain": [
       "True"
      ]
     },
     "execution_count": 1,
     "metadata": {},
     "output_type": "execute_result"
    }
   ],
   "source": [
    "import sys, os\n",
    "\n",
    "from tqdm import tqdm\n",
    "tqdm.pandas()\n",
    "\n",
    "from dotenv import load_dotenv\n",
    "import pandas as pd\n",
    "\n",
    "load_dotenv(\"../.env\")"
   ]
  },
  {
   "cell_type": "code",
   "execution_count": 2,
   "metadata": {},
   "outputs": [
    {
     "data": {
      "text/html": [
       "<div>\n",
       "<style scoped>\n",
       "    .dataframe tbody tr th:only-of-type {\n",
       "        vertical-align: middle;\n",
       "    }\n",
       "\n",
       "    .dataframe tbody tr th {\n",
       "        vertical-align: top;\n",
       "    }\n",
       "\n",
       "    .dataframe thead th {\n",
       "        text-align: right;\n",
       "    }\n",
       "</style>\n",
       "<table border=\"1\" class=\"dataframe\">\n",
       "  <thead>\n",
       "    <tr style=\"text-align: right;\">\n",
       "      <th></th>\n",
       "      <th>index</th>\n",
       "      <th>product</th>\n",
       "      <th>category</th>\n",
       "      <th>sub_category</th>\n",
       "      <th>brand</th>\n",
       "      <th>sale_price</th>\n",
       "      <th>market_price</th>\n",
       "      <th>type</th>\n",
       "      <th>rating</th>\n",
       "      <th>description</th>\n",
       "    </tr>\n",
       "  </thead>\n",
       "  <tbody>\n",
       "    <tr>\n",
       "      <th>0</th>\n",
       "      <td>935</td>\n",
       "      <td>6 Oil Nourish Conditioner</td>\n",
       "      <td>Beauty &amp; Hygiene</td>\n",
       "      <td>Hair Care</td>\n",
       "      <td>Loreal Paris</td>\n",
       "      <td>159.0</td>\n",
       "      <td>199.0</td>\n",
       "      <td>Shampoo &amp; Conditioner</td>\n",
       "      <td>4.3</td>\n",
       "      <td>Does your hair get frizzy and unmanageable? Ar...</td>\n",
       "    </tr>\n",
       "    <tr>\n",
       "      <th>1</th>\n",
       "      <td>984</td>\n",
       "      <td>Men Expert White Activ Intensive Whitening Foam</td>\n",
       "      <td>Beauty &amp; Hygiene</td>\n",
       "      <td>Men's Grooming</td>\n",
       "      <td>Loreal Paris</td>\n",
       "      <td>499.0</td>\n",
       "      <td>499.0</td>\n",
       "      <td>Face &amp; Body</td>\n",
       "      <td>3.0</td>\n",
       "      <td>LOreal Men Expert White Activ intensive whiten...</td>\n",
       "    </tr>\n",
       "  </tbody>\n",
       "</table>\n",
       "</div>"
      ],
      "text/plain": [
       "   index                                          product          category  \\\n",
       "0    935                        6 Oil Nourish Conditioner  Beauty & Hygiene   \n",
       "1    984  Men Expert White Activ Intensive Whitening Foam  Beauty & Hygiene   \n",
       "\n",
       "     sub_category         brand  sale_price  market_price  \\\n",
       "0       Hair Care  Loreal Paris       159.0         199.0   \n",
       "1  Men's Grooming  Loreal Paris       499.0         499.0   \n",
       "\n",
       "                    type  rating  \\\n",
       "0  Shampoo & Conditioner     4.3   \n",
       "1            Face & Body     3.0   \n",
       "\n",
       "                                         description  \n",
       "0  Does your hair get frizzy and unmanageable? Ar...  \n",
       "1  LOreal Men Expert White Activ intensive whiten...  "
      ]
     },
     "execution_count": 2,
     "metadata": {},
     "output_type": "execute_result"
    }
   ],
   "source": [
    "df = pd.read_csv(\"../data/bigbasket_loreal.csv\")\n",
    "df.head(2)"
   ]
  },
  {
   "cell_type": "code",
   "execution_count": 3,
   "metadata": {},
   "outputs": [],
   "source": [
    "from langchain_openai import ChatOpenAI\n",
    "\n",
    "chat = ChatOpenAI(model=\"gpt-3.5-turbo-1106\", temperature=1.0)"
   ]
  },
  {
   "cell_type": "code",
   "execution_count": 4,
   "metadata": {},
   "outputs": [
    {
     "name": "stdout",
     "output_type": "stream",
     "text": [
      "Men Expert Hydra Energetic Cleanser \n",
      " L'Oreal Paris Men Expert Hydra Energetic Cleanser is enriched with cryo-tonic. This is a soap-free pH neutral formula and it deeply cleanses and purifies skin without drying it out. its active defense system has a powerful soothing active ingredient that helps strengthen the skin's natural resistance against daily aggressions. Prevents skin tightness. Refreshes and vitalizes the skin. Deeply cleanses and purifies\n"
     ]
    },
    {
     "data": {
      "text/plain": [
       "[\"Does L'Oreal Paris Men Expert Hydra Energetic Cleanser contain any soap?\",\n",
       " \"How does the active defense system in L'Oreal Paris Men Expert Hydra Energetic Cleanser work?\",\n",
       " \"What is the pH level of L'Oreal Paris Men Expert Hydra Energetic Cleanser?\",\n",
       " \"What is the main ingredient in cryo-tonic of L'Oreal Paris Men Expert Hydra Energetic Cleanser?\",\n",
       " \"How does L'Oreal Paris Men Expert Hydra Energetic Cleanser prevent skin tightness?\"]"
      ]
     },
     "execution_count": 4,
     "metadata": {},
     "output_type": "execute_result"
    }
   ],
   "source": [
    "from langchain_core.messages import HumanMessage\n",
    "\n",
    "def get_questions(product_name, product_description):\n",
    "    questions = chat.invoke(\n",
    "    [\n",
    "        HumanMessage(\n",
    "            content=f\"\"\"Your job is to generate questions for the product descriptions such that it is hard to answer the question.\n",
    "\n",
    "\n",
    "Example 1\n",
    "Product name: Fructis Serum - Long & Strong\n",
    "Product description: Garnier Fruits Long & Strong Strengthening Serum detangles unruly hair, softens hair without heaviness and helps stop split and breakage ends. It is enriched with the goodness of Grape seed and avocado oil that result in smoother, shinier and longer hair.  \n",
    "Questions: \n",
    "- Does Garnier Fruits Long & Strong Strengthening Serum help in hair growth?\n",
    "- Which products contain avocado oil?\n",
    "\n",
    "Example 2\n",
    "Product name: Color Naturals Creme Riche Ultra Hair Color - Raspberry Red\n",
    "Product description: Garnier Color Naturals is creme hair colour which gives 100% Grey Coverage and ultra visible colour with 50% more shine. It has a superior Colour Lock technology which gives you a rich long-lasting colour that lasts up to 8 weeks. Color Naturals comes in a range of 8 gorgeous shades especially suited for Indian skin tones. It is available in an easy to use kit which can be used at your convenience in the comfort of your house! It is enriched with the goodness of 3 oils - Almond, Olive and Avocado which nourishes hair and provides shiny, long-lasting colour. Your hair will love the nourishment and you will love the colour!\n",
    "Questions: \n",
    "- How long does Color Naturals Creme Riche Ultra Hair Color last?\n",
    "- Which product for hair color is suited for indian skin?\n",
    "- How many colors are available in Color Naturals Hair Color?\n",
    "\n",
    "Product name: Black Naturals Hair Colour Shade 1-Deep Black 20 ml + 20 gm\n",
    "Product description: It is an oil-enriched cream colour which gives natural-looking black hair. Works in 15 minutes, non-drip cream. Maintains softness, smoothness, and shine. No ammonia hair colour. Lasts for 6 weeks.\n",
    "Questions: \n",
    "- Does Black Naturals Hair Colour contain ammonia?\n",
    "- How muct time do you have to keep Grey Naturals Hair Colour on your hair?\n",
    "\n",
    "Now generate 5 questions which can be answered for this product based on description. Use the exact product name in the questions as mentioned in the description. There should not be duplicates in the 5 questions. Return questions starting with - instead of numbers.\n",
    "\n",
    "Product name: {product_name}\n",
    "Product description: {product_description}\n",
    "Questions: \"\"\"\n",
    "        )\n",
    "    ]\n",
    ")\n",
    "    questions = questions.content.replace(\"- \", \"\").split(\"\\n\")\n",
    "    questions = list(filter(None, questions)) \n",
    "    return questions\n",
    "\n",
    "product_name, product_description = df.iloc[10][[\"product\", \"description\"]]\n",
    "print(product_name, \"\\n\", product_description)\n",
    "get_questions(product_name, product_description)"
   ]
  },
  {
   "cell_type": "code",
   "execution_count": 5,
   "metadata": {},
   "outputs": [
    {
     "name": "stderr",
     "output_type": "stream",
     "text": [
      "  0%|          | 0/100 [00:00<?, ?it/s]"
     ]
    },
    {
     "name": "stderr",
     "output_type": "stream",
     "text": [
      "100%|██████████| 100/100 [05:47<00:00,  3.48s/it]\n"
     ]
    }
   ],
   "source": [
    "df[\"questions\"] = df.progress_apply(lambda x: get_questions(x[\"product\"], x[\"description\"]), axis=1)"
   ]
  },
  {
   "cell_type": "code",
   "execution_count": 6,
   "metadata": {},
   "outputs": [
    {
     "data": {
      "text/html": [
       "<div>\n",
       "<style scoped>\n",
       "    .dataframe tbody tr th:only-of-type {\n",
       "        vertical-align: middle;\n",
       "    }\n",
       "\n",
       "    .dataframe tbody tr th {\n",
       "        vertical-align: top;\n",
       "    }\n",
       "\n",
       "    .dataframe thead th {\n",
       "        text-align: right;\n",
       "    }\n",
       "</style>\n",
       "<table border=\"1\" class=\"dataframe\">\n",
       "  <thead>\n",
       "    <tr style=\"text-align: right;\">\n",
       "      <th></th>\n",
       "      <th>index</th>\n",
       "      <th>product</th>\n",
       "      <th>category</th>\n",
       "      <th>sub_category</th>\n",
       "      <th>brand</th>\n",
       "      <th>sale_price</th>\n",
       "      <th>market_price</th>\n",
       "      <th>type</th>\n",
       "      <th>rating</th>\n",
       "      <th>description</th>\n",
       "      <th>questions</th>\n",
       "    </tr>\n",
       "  </thead>\n",
       "  <tbody>\n",
       "    <tr>\n",
       "      <th>0</th>\n",
       "      <td>935</td>\n",
       "      <td>6 Oil Nourish Conditioner</td>\n",
       "      <td>Beauty &amp; Hygiene</td>\n",
       "      <td>Hair Care</td>\n",
       "      <td>Loreal Paris</td>\n",
       "      <td>159.00</td>\n",
       "      <td>199.0</td>\n",
       "      <td>Shampoo &amp; Conditioner</td>\n",
       "      <td>4.3</td>\n",
       "      <td>Does your hair get frizzy and unmanageable? Ar...</td>\n",
       "      <td>[Is 6 Oil Nourish Conditioner for all hair typ...</td>\n",
       "    </tr>\n",
       "    <tr>\n",
       "      <th>1</th>\n",
       "      <td>984</td>\n",
       "      <td>Men Expert White Activ Intensive Whitening Foam</td>\n",
       "      <td>Beauty &amp; Hygiene</td>\n",
       "      <td>Men's Grooming</td>\n",
       "      <td>Loreal Paris</td>\n",
       "      <td>499.00</td>\n",
       "      <td>499.0</td>\n",
       "      <td>Face &amp; Body</td>\n",
       "      <td>3.0</td>\n",
       "      <td>LOreal Men Expert White Activ intensive whiten...</td>\n",
       "      <td>[Does LOreal Men Expert White Activ Intensive ...</td>\n",
       "    </tr>\n",
       "    <tr>\n",
       "      <th>2</th>\n",
       "      <td>990</td>\n",
       "      <td>Men Expert Hydra Power Duo Foam Cleanser</td>\n",
       "      <td>Beauty &amp; Hygiene</td>\n",
       "      <td>Skin Care</td>\n",
       "      <td>Loreal Paris</td>\n",
       "      <td>367.54</td>\n",
       "      <td>499.0</td>\n",
       "      <td>Face &amp; Body</td>\n",
       "      <td>4.1</td>\n",
       "      <td>Detoxifying Anti-Roughness, the foam deeply cl...</td>\n",
       "      <td>[How does Men Expert Hydra Power Duo Foam Clea...</td>\n",
       "    </tr>\n",
       "    <tr>\n",
       "      <th>3</th>\n",
       "      <td>1074</td>\n",
       "      <td>White Perfect - Clinical New Skin Essence Lotion</td>\n",
       "      <td>Beauty &amp; Hygiene</td>\n",
       "      <td>Skin Care</td>\n",
       "      <td>Loreal Paris</td>\n",
       "      <td>995.00</td>\n",
       "      <td>995.0</td>\n",
       "      <td>Face Care</td>\n",
       "      <td>NaN</td>\n",
       "      <td>L'Oreal Paris White Perfect Clinical New Skin ...</td>\n",
       "      <td>[How does L'Oreal Paris White Perfect Clinical...</td>\n",
       "    </tr>\n",
       "    <tr>\n",
       "      <th>4</th>\n",
       "      <td>1202</td>\n",
       "      <td>Revitalift Moisturizing Day Cream SPF 23 PA++</td>\n",
       "      <td>Beauty &amp; Hygiene</td>\n",
       "      <td>Skin Care</td>\n",
       "      <td>Loreal Paris</td>\n",
       "      <td>622.39</td>\n",
       "      <td>845.0</td>\n",
       "      <td>Face Care</td>\n",
       "      <td>4.8</td>\n",
       "      <td>L'Oreal Paris Revitalift Moisturizing Day Crea...</td>\n",
       "      <td>[What elements is L'Oreal Paris Revitalift Moi...</td>\n",
       "    </tr>\n",
       "  </tbody>\n",
       "</table>\n",
       "</div>"
      ],
      "text/plain": [
       "   index                                           product          category  \\\n",
       "0    935                         6 Oil Nourish Conditioner  Beauty & Hygiene   \n",
       "1    984   Men Expert White Activ Intensive Whitening Foam  Beauty & Hygiene   \n",
       "2    990          Men Expert Hydra Power Duo Foam Cleanser  Beauty & Hygiene   \n",
       "3   1074  White Perfect - Clinical New Skin Essence Lotion  Beauty & Hygiene   \n",
       "4   1202     Revitalift Moisturizing Day Cream SPF 23 PA++  Beauty & Hygiene   \n",
       "\n",
       "     sub_category         brand  sale_price  market_price  \\\n",
       "0       Hair Care  Loreal Paris      159.00         199.0   \n",
       "1  Men's Grooming  Loreal Paris      499.00         499.0   \n",
       "2       Skin Care  Loreal Paris      367.54         499.0   \n",
       "3       Skin Care  Loreal Paris      995.00         995.0   \n",
       "4       Skin Care  Loreal Paris      622.39         845.0   \n",
       "\n",
       "                    type  rating  \\\n",
       "0  Shampoo & Conditioner     4.3   \n",
       "1            Face & Body     3.0   \n",
       "2            Face & Body     4.1   \n",
       "3              Face Care     NaN   \n",
       "4              Face Care     4.8   \n",
       "\n",
       "                                         description  \\\n",
       "0  Does your hair get frizzy and unmanageable? Ar...   \n",
       "1  LOreal Men Expert White Activ intensive whiten...   \n",
       "2  Detoxifying Anti-Roughness, the foam deeply cl...   \n",
       "3  L'Oreal Paris White Perfect Clinical New Skin ...   \n",
       "4  L'Oreal Paris Revitalift Moisturizing Day Crea...   \n",
       "\n",
       "                                           questions  \n",
       "0  [Is 6 Oil Nourish Conditioner for all hair typ...  \n",
       "1  [Does LOreal Men Expert White Activ Intensive ...  \n",
       "2  [How does Men Expert Hydra Power Duo Foam Clea...  \n",
       "3  [How does L'Oreal Paris White Perfect Clinical...  \n",
       "4  [What elements is L'Oreal Paris Revitalift Moi...  "
      ]
     },
     "execution_count": 6,
     "metadata": {},
     "output_type": "execute_result"
    }
   ],
   "source": [
    "df.head()"
   ]
  },
  {
   "cell_type": "code",
   "execution_count": 7,
   "metadata": {},
   "outputs": [],
   "source": [
    "df.to_csv(\"../data/bigbasket_loreal.csv\", index=False)"
   ]
  },
  {
   "cell_type": "code",
   "execution_count": null,
   "metadata": {},
   "outputs": [],
   "source": []
  }
 ],
 "metadata": {
  "kernelspec": {
   "display_name": "rag",
   "language": "python",
   "name": "python3"
  },
  "language_info": {
   "codemirror_mode": {
    "name": "ipython",
    "version": 3
   },
   "file_extension": ".py",
   "mimetype": "text/x-python",
   "name": "python",
   "nbconvert_exporter": "python",
   "pygments_lexer": "ipython3",
   "version": "3.11.7"
  }
 },
 "nbformat": 4,
 "nbformat_minor": 2
}
