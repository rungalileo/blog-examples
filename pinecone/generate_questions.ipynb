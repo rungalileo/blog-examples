{
 "cells": [
  {
   "cell_type": "code",
   "execution_count": 1,
   "metadata": {},
   "outputs": [
    {
     "data": {
      "text/plain": [
       "True"
      ]
     },
     "execution_count": 1,
     "metadata": {},
     "output_type": "execute_result"
    }
   ],
   "source": [
    "import sys, os\n",
    "\n",
    "from tqdm import tqdm\n",
    "tqdm.pandas()\n",
    "\n",
    "from dotenv import load_dotenv\n",
    "import pandas as pd\n",
    "\n",
    "load_dotenv(\"../.env\")"
   ]
  },
  {
   "cell_type": "code",
   "execution_count": 2,
   "metadata": {},
   "outputs": [
    {
     "data": {
      "text/html": [
       "<div>\n",
       "<style scoped>\n",
       "    .dataframe tbody tr th:only-of-type {\n",
       "        vertical-align: middle;\n",
       "    }\n",
       "\n",
       "    .dataframe tbody tr th {\n",
       "        vertical-align: top;\n",
       "    }\n",
       "\n",
       "    .dataframe thead th {\n",
       "        text-align: right;\n",
       "    }\n",
       "</style>\n",
       "<table border=\"1\" class=\"dataframe\">\n",
       "  <thead>\n",
       "    <tr style=\"text-align: right;\">\n",
       "      <th></th>\n",
       "      <th>index</th>\n",
       "      <th>product</th>\n",
       "      <th>category</th>\n",
       "      <th>sub_category</th>\n",
       "      <th>brand</th>\n",
       "      <th>sale_price</th>\n",
       "      <th>market_price</th>\n",
       "      <th>type</th>\n",
       "      <th>rating</th>\n",
       "      <th>description</th>\n",
       "      <th>questions</th>\n",
       "    </tr>\n",
       "  </thead>\n",
       "  <tbody>\n",
       "    <tr>\n",
       "      <th>0</th>\n",
       "      <td>103</td>\n",
       "      <td>Fructis Serum - Long &amp; Strong</td>\n",
       "      <td>Beauty &amp; Hygiene</td>\n",
       "      <td>Hair Care</td>\n",
       "      <td>Garnier</td>\n",
       "      <td>230.0</td>\n",
       "      <td>230.0</td>\n",
       "      <td>Shampoo &amp; Conditioner</td>\n",
       "      <td>4.8</td>\n",
       "      <td>Garnier Fruits Long &amp; Strong Strengthening Ser...</td>\n",
       "      <td>['What are the key ingredients in Fructis Seru...</td>\n",
       "    </tr>\n",
       "    <tr>\n",
       "      <th>1</th>\n",
       "      <td>163</td>\n",
       "      <td>Color Naturals Creme Riche Ultra Hair Color - ...</td>\n",
       "      <td>Beauty &amp; Hygiene</td>\n",
       "      <td>Hair Care</td>\n",
       "      <td>Garnier</td>\n",
       "      <td>199.0</td>\n",
       "      <td>199.0</td>\n",
       "      <td>Hair Color</td>\n",
       "      <td>4.1</td>\n",
       "      <td>Garnier Color Naturals is creme hair colour wh...</td>\n",
       "      <td>['How long does Garnier Color Naturals Creme R...</td>\n",
       "    </tr>\n",
       "  </tbody>\n",
       "</table>\n",
       "</div>"
      ],
      "text/plain": [
       "   index                                            product          category  \\\n",
       "0    103                      Fructis Serum - Long & Strong  Beauty & Hygiene   \n",
       "1    163  Color Naturals Creme Riche Ultra Hair Color - ...  Beauty & Hygiene   \n",
       "\n",
       "  sub_category    brand  sale_price  market_price                   type  \\\n",
       "0    Hair Care  Garnier       230.0         230.0  Shampoo & Conditioner   \n",
       "1    Hair Care  Garnier       199.0         199.0             Hair Color   \n",
       "\n",
       "   rating                                        description  \\\n",
       "0     4.8  Garnier Fruits Long & Strong Strengthening Ser...   \n",
       "1     4.1  Garnier Color Naturals is creme hair colour wh...   \n",
       "\n",
       "                                           questions  \n",
       "0  ['What are the key ingredients in Fructis Seru...  \n",
       "1  ['How long does Garnier Color Naturals Creme R...  "
      ]
     },
     "execution_count": 2,
     "metadata": {},
     "output_type": "execute_result"
    }
   ],
   "source": [
    "df = pd.read_csv(\"../data/bigbasket_garnier.csv\")\n",
    "df.head(2)"
   ]
  },
  {
   "cell_type": "code",
   "execution_count": 3,
   "metadata": {},
   "outputs": [],
   "source": [
    "from langchain_openai import ChatOpenAI\n",
    "\n",
    "chat = ChatOpenAI(model=\"gpt-3.5-turbo-1106\", temperature=1.0)"
   ]
  },
  {
   "cell_type": "code",
   "execution_count": 4,
   "metadata": {},
   "outputs": [
    {
     "name": "stdout",
     "output_type": "stream",
     "text": [
      "Skin Naturals - Light Complete White Face Wash \n",
      " Garnier White Complete is a women's face wash enriched with Yuzu Lemon essence. Yuzu Lemon is known as the King of Lemons since it contains a high concentration of Vitamin C and is known for its strong brightening, exfoliating and anti-oxidant properties. This daily face wash for women thoroughly cleanses, clarifies and brightens the skin. It helps recover a clear, radiant and even complexion. It is suitable for all skin types.\n"
     ]
    },
    {
     "data": {
      "text/plain": [
       "['Does Skin Naturals Light Complete White Face Wash contain any artificial ingredients?',\n",
       " 'How does Skin Naturals Light Complete White Face Wash exfoliate the skin?',\n",
       " 'Can Skin Naturals Light Complete White Face Wash be used by people with sensitive skin?',\n",
       " 'What is the concentration of Vitamin C in Skin Naturals Light Complete White Face Wash?',\n",
       " 'How does Skin Naturals Light Complete White Face Wash clarify the skin?']"
      ]
     },
     "execution_count": 4,
     "metadata": {},
     "output_type": "execute_result"
    }
   ],
   "source": [
    "from langchain_core.messages import HumanMessage\n",
    "\n",
    "def get_questions(product_name, product_description):\n",
    "    questions = chat.invoke(\n",
    "    [\n",
    "        HumanMessage(\n",
    "            content=f\"\"\"Your job is to generate questions for the product descriptions such that it is hard to answer the question.\n",
    "\n",
    "\n",
    "Example 1\n",
    "Product name: Fructis Serum - Long & Strong\n",
    "Product description: Garnier Fruits Long & Strong Strengthening Serum detangles unruly hair, softens hair without heaviness and helps stop split and breakage ends. It is enriched with the goodness of Grape seed and avocado oil that result in smoother, shinier and longer hair.  \n",
    "Questions: \n",
    "- Does Garnier Fruits Long & Strong Strengthening Serum help in hair growth?\n",
    "- Which products contain avocado oil?\n",
    "\n",
    "Example 2\n",
    "Product name: Color Naturals Creme Riche Ultra Hair Color - Raspberry Red\n",
    "Product description: Garnier Color Naturals is creme hair colour which gives 100% Grey Coverage and ultra visible colour with 50% more shine. It has a superior Colour Lock technology which gives you a rich long-lasting colour that lasts up to 8 weeks. Color Naturals comes in a range of 8 gorgeous shades especially suited for Indian skin tones. It is available in an easy to use kit which can be used at your convenience in the comfort of your house! It is enriched with the goodness of 3 oils - Almond, Olive and Avocado which nourishes hair and provides shiny, long-lasting colour. Your hair will love the nourishment and you will love the colour!\n",
    "Questions: \n",
    "- How long does Color Naturals Creme Riche Ultra Hair Color last?\n",
    "- Which product for hair color is suited for indian skin?\n",
    "- How many colors are available in Color Naturals Hair Color?\n",
    "\n",
    "Product name: Black Naturals Hair Colour Shade 1-Deep Black 20 ml + 20 gm\n",
    "Product description: It is an oil-enriched cream colour which gives natural-looking black hair. Works in 15 minutes, non-drip cream. Maintains softness, smoothness, and shine. No ammonia hair colour. Lasts for 6 weeks.\n",
    "Questions: \n",
    "- Does Black Naturals Hair Colour contain ammonia?\n",
    "- How muct time do you have to keep Grey Naturals Hair Colour on your hair?\n",
    "\n",
    "Now generate 5 questions which can be answered for this product based on description. Use the exact product name in the questions as mentioned in the description. There should not be duplicates in the 5 questions. Return questions starting with - instead of numbers.\n",
    "\n",
    "Product name: {product_name}\n",
    "Product description: {product_description}\n",
    "Questions: \"\"\"\n",
    "        )\n",
    "    ]\n",
    ")\n",
    "    questions = questions.content.replace(\"- \", \"\").split(\"\\n\")\n",
    "    questions = list(filter(None, questions)) \n",
    "    return questions\n",
    "\n",
    "product_name, product_description = df.iloc[10][[\"product\", \"description\"]]\n",
    "print(product_name, \"\\n\", product_description)\n",
    "get_questions(product_name, product_description)"
   ]
  },
  {
   "cell_type": "code",
   "execution_count": 5,
   "metadata": {},
   "outputs": [
    {
     "name": "stderr",
     "output_type": "stream",
     "text": [
      "100%|██████████| 50/50 [02:06<00:00,  2.54s/it]\n"
     ]
    }
   ],
   "source": [
    "df[\"questions\"] = df.progress_apply(lambda x: get_questions(x[\"product\"], x[\"description\"]), axis=1)"
   ]
  },
  {
   "cell_type": "code",
   "execution_count": 6,
   "metadata": {},
   "outputs": [
    {
     "data": {
      "text/html": [
       "<div>\n",
       "<style scoped>\n",
       "    .dataframe tbody tr th:only-of-type {\n",
       "        vertical-align: middle;\n",
       "    }\n",
       "\n",
       "    .dataframe tbody tr th {\n",
       "        vertical-align: top;\n",
       "    }\n",
       "\n",
       "    .dataframe thead th {\n",
       "        text-align: right;\n",
       "    }\n",
       "</style>\n",
       "<table border=\"1\" class=\"dataframe\">\n",
       "  <thead>\n",
       "    <tr style=\"text-align: right;\">\n",
       "      <th></th>\n",
       "      <th>index</th>\n",
       "      <th>product</th>\n",
       "      <th>category</th>\n",
       "      <th>sub_category</th>\n",
       "      <th>brand</th>\n",
       "      <th>sale_price</th>\n",
       "      <th>market_price</th>\n",
       "      <th>type</th>\n",
       "      <th>rating</th>\n",
       "      <th>description</th>\n",
       "      <th>questions</th>\n",
       "    </tr>\n",
       "  </thead>\n",
       "  <tbody>\n",
       "    <tr>\n",
       "      <th>0</th>\n",
       "      <td>103</td>\n",
       "      <td>Fructis Serum - Long &amp; Strong</td>\n",
       "      <td>Beauty &amp; Hygiene</td>\n",
       "      <td>Hair Care</td>\n",
       "      <td>Garnier</td>\n",
       "      <td>230.00</td>\n",
       "      <td>230.0</td>\n",
       "      <td>Shampoo &amp; Conditioner</td>\n",
       "      <td>4.8</td>\n",
       "      <td>Garnier Fruits Long &amp; Strong Strengthening Ser...</td>\n",
       "      <td>[How does Garnier Fruits Long &amp; Strong Strengt...</td>\n",
       "    </tr>\n",
       "    <tr>\n",
       "      <th>1</th>\n",
       "      <td>163</td>\n",
       "      <td>Color Naturals Creme Riche Ultra Hair Color - ...</td>\n",
       "      <td>Beauty &amp; Hygiene</td>\n",
       "      <td>Hair Care</td>\n",
       "      <td>Garnier</td>\n",
       "      <td>199.00</td>\n",
       "      <td>199.0</td>\n",
       "      <td>Hair Color</td>\n",
       "      <td>4.1</td>\n",
       "      <td>Garnier Color Naturals is creme hair colour wh...</td>\n",
       "      <td>[Can you use Garnier Color Naturals Creme Rich...</td>\n",
       "    </tr>\n",
       "    <tr>\n",
       "      <th>2</th>\n",
       "      <td>213</td>\n",
       "      <td>Black Naturals Hair Colour Shade 1-Deep Black ...</td>\n",
       "      <td>Beauty &amp; Hygiene</td>\n",
       "      <td>Hair Care</td>\n",
       "      <td>Garnier</td>\n",
       "      <td>108.78</td>\n",
       "      <td>117.0</td>\n",
       "      <td>Hair Color</td>\n",
       "      <td>4.2</td>\n",
       "      <td>It is an oil-enriched cream colour which gives...</td>\n",
       "      <td>[How long does Black Naturals Hair Colour last...</td>\n",
       "    </tr>\n",
       "    <tr>\n",
       "      <th>3</th>\n",
       "      <td>448</td>\n",
       "      <td>Black Naturals</td>\n",
       "      <td>Beauty &amp; Hygiene</td>\n",
       "      <td>Hair Care</td>\n",
       "      <td>Garnier</td>\n",
       "      <td>37.00</td>\n",
       "      <td>39.0</td>\n",
       "      <td>Hair Color</td>\n",
       "      <td>4.2</td>\n",
       "      <td>Garnier Black Naturals is enriched with the go...</td>\n",
       "      <td>[How long does Garnier Black Naturals last?, D...</td>\n",
       "    </tr>\n",
       "    <tr>\n",
       "      <th>4</th>\n",
       "      <td>1330</td>\n",
       "      <td>Skin Natural Serum sheetmask (Light complete +...</td>\n",
       "      <td>Beauty &amp; Hygiene</td>\n",
       "      <td>Skin Care</td>\n",
       "      <td>Garnier</td>\n",
       "      <td>211.61</td>\n",
       "      <td>297.0</td>\n",
       "      <td>Face Care</td>\n",
       "      <td>NaN</td>\n",
       "      <td>Garnier introduces a new generation of face ma...</td>\n",
       "      <td>[What are the key ingredients in Garnier Skin ...</td>\n",
       "    </tr>\n",
       "  </tbody>\n",
       "</table>\n",
       "</div>"
      ],
      "text/plain": [
       "   index                                            product          category  \\\n",
       "0    103                      Fructis Serum - Long & Strong  Beauty & Hygiene   \n",
       "1    163  Color Naturals Creme Riche Ultra Hair Color - ...  Beauty & Hygiene   \n",
       "2    213  Black Naturals Hair Colour Shade 1-Deep Black ...  Beauty & Hygiene   \n",
       "3    448                                     Black Naturals  Beauty & Hygiene   \n",
       "4   1330  Skin Natural Serum sheetmask (Light complete +...  Beauty & Hygiene   \n",
       "\n",
       "  sub_category    brand  sale_price  market_price                   type  \\\n",
       "0    Hair Care  Garnier      230.00         230.0  Shampoo & Conditioner   \n",
       "1    Hair Care  Garnier      199.00         199.0             Hair Color   \n",
       "2    Hair Care  Garnier      108.78         117.0             Hair Color   \n",
       "3    Hair Care  Garnier       37.00          39.0             Hair Color   \n",
       "4    Skin Care  Garnier      211.61         297.0              Face Care   \n",
       "\n",
       "   rating                                        description  \\\n",
       "0     4.8  Garnier Fruits Long & Strong Strengthening Ser...   \n",
       "1     4.1  Garnier Color Naturals is creme hair colour wh...   \n",
       "2     4.2  It is an oil-enriched cream colour which gives...   \n",
       "3     4.2  Garnier Black Naturals is enriched with the go...   \n",
       "4     NaN  Garnier introduces a new generation of face ma...   \n",
       "\n",
       "                                           questions  \n",
       "0  [How does Garnier Fruits Long & Strong Strengt...  \n",
       "1  [Can you use Garnier Color Naturals Creme Rich...  \n",
       "2  [How long does Black Naturals Hair Colour last...  \n",
       "3  [How long does Garnier Black Naturals last?, D...  \n",
       "4  [What are the key ingredients in Garnier Skin ...  "
      ]
     },
     "execution_count": 6,
     "metadata": {},
     "output_type": "execute_result"
    }
   ],
   "source": [
    "df.head()"
   ]
  },
  {
   "cell_type": "code",
   "execution_count": 8,
   "metadata": {},
   "outputs": [],
   "source": [
    "df.to_csv(\"../data/bigbasket_garnier.csv\", index=False)"
   ]
  },
  {
   "cell_type": "code",
   "execution_count": null,
   "metadata": {},
   "outputs": [],
   "source": []
  }
 ],
 "metadata": {
  "kernelspec": {
   "display_name": "rag",
   "language": "python",
   "name": "python3"
  },
  "language_info": {
   "codemirror_mode": {
    "name": "ipython",
    "version": 3
   },
   "file_extension": ".py",
   "mimetype": "text/x-python",
   "name": "python",
   "nbconvert_exporter": "python",
   "pygments_lexer": "ipython3",
   "version": "3.11.7"
  }
 },
 "nbformat": 4,
 "nbformat_minor": 2
}
