{
 "cells": [
  {
   "cell_type": "code",
   "execution_count": 1,
   "metadata": {},
   "outputs": [
    {
     "data": {
      "text/plain": [
       "True"
      ]
     },
     "execution_count": 1,
     "metadata": {},
     "output_type": "execute_result"
    }
   ],
   "source": [
    "import sys, os\n",
    "\n",
    "from pinecone import Pinecone\n",
    "\n",
    "from langchain.chains import ConversationalRetrievalChain\n",
    "from langchain.memory import ConversationBufferMemory\n",
    "\n",
    "from langchain_openai import ChatOpenAI\n",
    "from langchain_openai import OpenAIEmbeddings\n",
    "\n",
    "from langchain_community.vectorstores import Pinecone as langchain_pinecone\n",
    "\n",
    "from dotenv import load_dotenv\n",
    "load_dotenv(\"../.env\")"
   ]
  },
  {
   "cell_type": "code",
   "execution_count": 2,
   "metadata": {},
   "outputs": [
    {
     "name": "stderr",
     "output_type": "stream",
     "text": [
      "/Users/pratikbhavsar/miniconda3/envs/rag/lib/python3.11/site-packages/langchain_community/vectorstores/pinecone.py:75: UserWarning: Passing in `embedding` as a Callable is deprecated. Please pass in an Embeddings object instead.\n",
      "  warnings.warn(\n"
     ]
    }
   ],
   "source": [
    "pc = Pinecone(api_key=os.getenv(\"PINECONE_API_KEY\"))\n",
    "embeddings = OpenAIEmbeddings()\n",
    "memory = ConversationBufferMemory(memory_key=\"chat_history\", return_messages=True)\n",
    "\n",
    "index = pc.Index(\"webinar\")\n",
    "vectorstore = langchain_pinecone(index, embeddings.embed_query, \"text\")\n",
    "retriever = vectorstore.as_retriever()"
   ]
  },
  {
   "cell_type": "code",
   "execution_count": 3,
   "metadata": {},
   "outputs": [],
   "source": [
    "llm = ChatOpenAI(model_name=\"gpt-3.5-turbo-1106\")\n",
    "qa = ConversationalRetrievalChain.from_llm(llm, retriever=retriever, memory=memory)"
   ]
  },
  {
   "cell_type": "code",
   "execution_count": 4,
   "metadata": {},
   "outputs": [],
   "source": [
    "# qa(\"What can DFA banks can no longer solely rely on?\")"
   ]
  },
  {
   "cell_type": "code",
   "execution_count": 6,
   "metadata": {},
   "outputs": [
    {
     "name": "stdout",
     "output_type": "stream",
     "text": [
      "Go to https://console.demo.rungalileo.io/get-token to generate a new API Key\n",
      "👋 You have logged into 🔭 Galileo (https://console.demo.rungalileo.io/) as galileo@rungalileo.io.\n"
     ]
    },
    {
     "data": {
      "text/plain": [
       "Config(console_url=Url('https://console.demo.rungalileo.io/'), username=None, password=None, token=SecretStr('**********'), current_user='galileo@rungalileo.io', current_project_id=None, current_project_name=None, current_run_id=None, current_run_name=None, current_run_url=None, current_run_task_type=None, current_template_id=None, current_template_name=None, current_template_version_id=None, current_template_version=None, current_template=None, current_dataset_id=None, current_job_id=None, api_url=Url('https://api.demo.rungalileo.io/'))"
      ]
     },
     "execution_count": 6,
     "metadata": {},
     "output_type": "execute_result"
    }
   ],
   "source": [
    "import promptquality as pq\n",
    "from promptquality import Scorers\n",
    "from promptquality import SupportedModels\n",
    "\n",
    "metrics = [\n",
    "    Scorers.context_adherence,\n",
    "    Scorers.latency,\n",
    "    Scorers.pii,\n",
    "    Scorers.toxicity,\n",
    "    Scorers.tone\n",
    "    # Uncertainty, BLEU and ROUGE are automatically included\n",
    "]\n",
    "\n",
    "pq.login(\"console.demo.rungalileo.io\")"
   ]
  },
  {
   "cell_type": "code",
   "execution_count": 7,
   "metadata": {},
   "outputs": [
    {
     "name": "stderr",
     "output_type": "stream",
     "text": [
      "/Users/pratikbhavsar/miniconda3/envs/rag/lib/python3.11/site-packages/langchain_core/_api/deprecation.py:117: LangChainDeprecationWarning: The function `run` was deprecated in LangChain 0.1.0 and will be removed in 0.2.0. Use invoke instead.\n",
      "  warn_deprecated(\n"
     ]
    },
    {
     "data": {
      "text/plain": [
       "\"DFA banks can no longer solely rely on credit ratings as due diligence to buy a financial instrument. This is in line with the Dodd-Frank Act's regulations, which aim to encourage financial institutions to conduct their own independent research and due diligence rather than relying solely on credit ratings.\""
      ]
     },
     "execution_count": 7,
     "metadata": {},
     "output_type": "execute_result"
    }
   ],
   "source": [
    "\n",
    "galileo_handler = pq.GalileoPromptCallback(\n",
    "    project_name=\"pinecone-webinar\", scorers=metrics\n",
    ")\n",
    "\n",
    "q = \"What can DFA banks no longer solely rely on?\"\n",
    "qa.run(q, callbacks=[galileo_handler])"
   ]
  },
  {
   "cell_type": "code",
   "execution_count": 13,
   "metadata": {},
   "outputs": [
    {
     "data": {
      "text/plain": [
       "'The concerns for educational systems in the U.S. that may lead to worry include the need for students to acquire marketable skills in exchange for their massive investment in education, as well as the issue of students graduating with significant student debt and feeling unqualified for employment. Additionally, there is a concern about institutions potentially using false ratings, although there are newer controls in place to prevent this.'"
      ]
     },
     "execution_count": 13,
     "metadata": {},
     "output_type": "execute_result"
    }
   ],
   "source": [
    "q = \"why should educational systems in the U.S. worry?\"\n",
    "qa.run(q, callbacks=[galileo_handler])"
   ]
  },
  {
   "cell_type": "code",
   "execution_count": 14,
   "metadata": {},
   "outputs": [
    {
     "data": {
      "text/plain": [
       "'One measure to prevent false ratings is to have additional scrutiny from the market/investors. There are also newer controls in place under the Dodd-Frank Act that prevent institutions from solely relying on credit ratings as due diligence. Additionally, financial institutions can do their own research and due diligence to determine the quality of certain financial products.'"
      ]
     },
     "execution_count": 14,
     "metadata": {},
     "output_type": "execute_result"
    }
   ],
   "source": [
    "q = \"how to prevent false ratings?\"\n",
    "qa.run(q, callbacks=[galileo_handler])"
   ]
  },
  {
   "cell_type": "code",
   "execution_count": 15,
   "metadata": {},
   "outputs": [
    {
     "data": {
      "application/vnd.jupyter.widget-view+json": {
       "model_id": "24f9fca7d1c44fa8a587078e23054788",
       "version_major": 2,
       "version_minor": 0
      },
      "text/plain": [
       "Processing chain run...:   0%|          | 0/5 [00:00<?, ?it/s]"
      ]
     },
     "metadata": {},
     "output_type": "display_data"
    },
    {
     "name": "stdout",
     "output_type": "stream",
     "text": [
      "🔭 View your prompt run on the Galileo console at: https://console.demo.rungalileo.io/prompt/chains/82f08aaa-e101-4549-8cd4-2090aae1ee9c/eb38053f-0412-43be-8c06-b4d5f24a286a?taskType=12\n"
     ]
    }
   ],
   "source": [
    "galileo_handler.finish()"
   ]
  },
  {
   "cell_type": "code",
   "execution_count": null,
   "metadata": {},
   "outputs": [],
   "source": []
  }
 ],
 "metadata": {
  "kernelspec": {
   "display_name": "rag",
   "language": "python",
   "name": "python3"
  },
  "language_info": {
   "codemirror_mode": {
    "name": "ipython",
    "version": 3
   },
   "file_extension": ".py",
   "mimetype": "text/x-python",
   "name": "python",
   "nbconvert_exporter": "python",
   "pygments_lexer": "ipython3",
   "version": "3.11.7"
  }
 },
 "nbformat": 4,
 "nbformat_minor": 2
}
