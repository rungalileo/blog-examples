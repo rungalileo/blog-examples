{
 "cells": [
  {
   "cell_type": "code",
   "execution_count": 19,
   "metadata": {},
   "outputs": [
    {
     "data": {
      "text/plain": [
       "True"
      ]
     },
     "execution_count": 19,
     "metadata": {},
     "output_type": "execute_result"
    }
   ],
   "source": [
    "import sys, os, time\n",
    "\n",
    "from pinecone import Pinecone, ServerlessSpec\n",
    "from dotenv import load_dotenv\n",
    "from datasets import load_dataset\n",
    "import pandas as pd\n",
    "\n",
    "from langchain.text_splitter import RecursiveCharacterTextSplitter\n",
    "from langchain_community.vectorstores import Pinecone as langchain_pinecone\n",
    "from langchain_openai import OpenAIEmbeddings\n",
    "\n",
    "load_dotenv(\"../.env\")"
   ]
  },
  {
   "cell_type": "code",
   "execution_count": 2,
   "metadata": {},
   "outputs": [],
   "source": [
    "# import nltk\n",
    "# nltk.download('punkt')"
   ]
  },
  {
   "cell_type": "code",
   "execution_count": 3,
   "metadata": {},
   "outputs": [
    {
     "data": {
      "text/html": [
       "<div>\n",
       "<style scoped>\n",
       "    .dataframe tbody tr th:only-of-type {\n",
       "        vertical-align: middle;\n",
       "    }\n",
       "\n",
       "    .dataframe tbody tr th {\n",
       "        vertical-align: top;\n",
       "    }\n",
       "\n",
       "    .dataframe thead th {\n",
       "        text-align: right;\n",
       "    }\n",
       "</style>\n",
       "<table border=\"1\" class=\"dataframe\">\n",
       "  <thead>\n",
       "    <tr style=\"text-align: right;\">\n",
       "      <th></th>\n",
       "      <th>index</th>\n",
       "      <th>product</th>\n",
       "      <th>category</th>\n",
       "      <th>sub_category</th>\n",
       "      <th>brand</th>\n",
       "      <th>sale_price</th>\n",
       "      <th>market_price</th>\n",
       "      <th>type</th>\n",
       "      <th>rating</th>\n",
       "      <th>description</th>\n",
       "    </tr>\n",
       "  </thead>\n",
       "  <tbody>\n",
       "    <tr>\n",
       "      <th>0</th>\n",
       "      <td>1</td>\n",
       "      <td>Garlic Oil - Vegetarian Capsule 500 mg</td>\n",
       "      <td>Beauty &amp; Hygiene</td>\n",
       "      <td>Hair Care</td>\n",
       "      <td>Sri Sri Ayurveda</td>\n",
       "      <td>220.0</td>\n",
       "      <td>220.0</td>\n",
       "      <td>Hair Oil &amp; Serum</td>\n",
       "      <td>4.1</td>\n",
       "      <td>This Product contains Garlic Oil that is known...</td>\n",
       "    </tr>\n",
       "    <tr>\n",
       "      <th>1</th>\n",
       "      <td>2</td>\n",
       "      <td>Water Bottle - Orange</td>\n",
       "      <td>Kitchen, Garden &amp; Pets</td>\n",
       "      <td>Storage &amp; Accessories</td>\n",
       "      <td>Mastercook</td>\n",
       "      <td>180.0</td>\n",
       "      <td>180.0</td>\n",
       "      <td>Water &amp; Fridge Bottles</td>\n",
       "      <td>2.3</td>\n",
       "      <td>Each product is microwave safe (without lid), ...</td>\n",
       "    </tr>\n",
       "  </tbody>\n",
       "</table>\n",
       "</div>"
      ],
      "text/plain": [
       "   index                                 product                category  \\\n",
       "0      1  Garlic Oil - Vegetarian Capsule 500 mg        Beauty & Hygiene   \n",
       "1      2                   Water Bottle - Orange  Kitchen, Garden & Pets   \n",
       "\n",
       "            sub_category              brand  sale_price  market_price  \\\n",
       "0              Hair Care  Sri Sri Ayurveda        220.0         220.0   \n",
       "1  Storage & Accessories         Mastercook       180.0         180.0   \n",
       "\n",
       "                     type  rating  \\\n",
       "0        Hair Oil & Serum     4.1   \n",
       "1  Water & Fridge Bottles     2.3   \n",
       "\n",
       "                                         description  \n",
       "0  This Product contains Garlic Oil that is known...  \n",
       "1  Each product is microwave safe (without lid), ...  "
      ]
     },
     "execution_count": 3,
     "metadata": {},
     "output_type": "execute_result"
    }
   ],
   "source": [
    "# FiQA dataset\n",
    "# docs = pd.DataFrame(load_dataset(\"BeIR/fiqa\", \"corpus\", split=\"corpus\"))\n",
    "# queries = pd.DataFrame(load_dataset(\"BeIR/fiqa\", \"queries\", split=\"queries\"))\n",
    "\n",
    "# BigBasket dataset\n",
    "# https://www.kaggle.com/datasets/surajjha101/bigbasket-entire-product-list-28k-datapoints\n",
    "df = pd.read_csv(\"../data/bigbasket.csv\")\n",
    "df.head(2)"
   ]
  },
  {
   "cell_type": "code",
   "execution_count": 4,
   "metadata": {},
   "outputs": [
    {
     "data": {
      "text/plain": [
       "Index(['index', 'product', 'category', 'sub_category', 'brand', 'sale_price',\n",
       "       'market_price', 'type', 'rating', 'description'],\n",
       "      dtype='object')"
      ]
     },
     "execution_count": 4,
     "metadata": {},
     "output_type": "execute_result"
    }
   ],
   "source": [
    "df.columns"
   ]
  },
  {
   "cell_type": "code",
   "execution_count": 5,
   "metadata": {},
   "outputs": [],
   "source": [
    "# df[df.category == \"Beauty & Hygiene\"].brand.value_counts().head(50)"
   ]
  },
  {
   "cell_type": "code",
   "execution_count": 6,
   "metadata": {},
   "outputs": [
    {
     "data": {
      "text/html": [
       "<div>\n",
       "<style scoped>\n",
       "    .dataframe tbody tr th:only-of-type {\n",
       "        vertical-align: middle;\n",
       "    }\n",
       "\n",
       "    .dataframe tbody tr th {\n",
       "        vertical-align: top;\n",
       "    }\n",
       "\n",
       "    .dataframe thead th {\n",
       "        text-align: right;\n",
       "    }\n",
       "</style>\n",
       "<table border=\"1\" class=\"dataframe\">\n",
       "  <thead>\n",
       "    <tr style=\"text-align: right;\">\n",
       "      <th></th>\n",
       "      <th>index</th>\n",
       "      <th>product</th>\n",
       "      <th>category</th>\n",
       "      <th>sub_category</th>\n",
       "      <th>brand</th>\n",
       "      <th>sale_price</th>\n",
       "      <th>market_price</th>\n",
       "      <th>type</th>\n",
       "      <th>rating</th>\n",
       "      <th>description</th>\n",
       "    </tr>\n",
       "  </thead>\n",
       "  <tbody>\n",
       "    <tr>\n",
       "      <th>102</th>\n",
       "      <td>103</td>\n",
       "      <td>Fructis Serum - Long &amp; Strong</td>\n",
       "      <td>Beauty &amp; Hygiene</td>\n",
       "      <td>Hair Care</td>\n",
       "      <td>Garnier</td>\n",
       "      <td>230.00</td>\n",
       "      <td>230.0</td>\n",
       "      <td>Shampoo &amp; Conditioner</td>\n",
       "      <td>4.8</td>\n",
       "      <td>Garnier Fruits Long &amp; Strong Strengthening Ser...</td>\n",
       "    </tr>\n",
       "    <tr>\n",
       "      <th>162</th>\n",
       "      <td>163</td>\n",
       "      <td>Color Naturals Creme Riche Ultra Hair Color - ...</td>\n",
       "      <td>Beauty &amp; Hygiene</td>\n",
       "      <td>Hair Care</td>\n",
       "      <td>Garnier</td>\n",
       "      <td>199.00</td>\n",
       "      <td>199.0</td>\n",
       "      <td>Hair Color</td>\n",
       "      <td>4.1</td>\n",
       "      <td>Garnier Color Naturals is creme hair colour wh...</td>\n",
       "    </tr>\n",
       "    <tr>\n",
       "      <th>212</th>\n",
       "      <td>213</td>\n",
       "      <td>Black Naturals Hair Colour Shade 1-Deep Black ...</td>\n",
       "      <td>Beauty &amp; Hygiene</td>\n",
       "      <td>Hair Care</td>\n",
       "      <td>Garnier</td>\n",
       "      <td>108.78</td>\n",
       "      <td>117.0</td>\n",
       "      <td>Hair Color</td>\n",
       "      <td>4.2</td>\n",
       "      <td>It is an oil-enriched cream colour which gives...</td>\n",
       "    </tr>\n",
       "    <tr>\n",
       "      <th>447</th>\n",
       "      <td>448</td>\n",
       "      <td>Black Naturals</td>\n",
       "      <td>Beauty &amp; Hygiene</td>\n",
       "      <td>Hair Care</td>\n",
       "      <td>Garnier</td>\n",
       "      <td>37.00</td>\n",
       "      <td>39.0</td>\n",
       "      <td>Hair Color</td>\n",
       "      <td>4.2</td>\n",
       "      <td>Garnier Black Naturals is enriched with the go...</td>\n",
       "    </tr>\n",
       "    <tr>\n",
       "      <th>1329</th>\n",
       "      <td>1330</td>\n",
       "      <td>Skin Natural Serum sheetmask (Light complete +...</td>\n",
       "      <td>Beauty &amp; Hygiene</td>\n",
       "      <td>Skin Care</td>\n",
       "      <td>Garnier</td>\n",
       "      <td>211.61</td>\n",
       "      <td>297.0</td>\n",
       "      <td>Face Care</td>\n",
       "      <td>NaN</td>\n",
       "      <td>Garnier introduces a new generation of face ma...</td>\n",
       "    </tr>\n",
       "  </tbody>\n",
       "</table>\n",
       "</div>"
      ],
      "text/plain": [
       "      index                                            product  \\\n",
       "102     103                      Fructis Serum - Long & Strong   \n",
       "162     163  Color Naturals Creme Riche Ultra Hair Color - ...   \n",
       "212     213  Black Naturals Hair Colour Shade 1-Deep Black ...   \n",
       "447     448                                     Black Naturals   \n",
       "1329   1330  Skin Natural Serum sheetmask (Light complete +...   \n",
       "\n",
       "              category sub_category    brand  sale_price  market_price  \\\n",
       "102   Beauty & Hygiene    Hair Care  Garnier      230.00         230.0   \n",
       "162   Beauty & Hygiene    Hair Care  Garnier      199.00         199.0   \n",
       "212   Beauty & Hygiene    Hair Care  Garnier      108.78         117.0   \n",
       "447   Beauty & Hygiene    Hair Care  Garnier       37.00          39.0   \n",
       "1329  Beauty & Hygiene    Skin Care  Garnier      211.61         297.0   \n",
       "\n",
       "                       type  rating  \\\n",
       "102   Shampoo & Conditioner     4.8   \n",
       "162              Hair Color     4.1   \n",
       "212              Hair Color     4.2   \n",
       "447              Hair Color     4.2   \n",
       "1329              Face Care     NaN   \n",
       "\n",
       "                                            description  \n",
       "102   Garnier Fruits Long & Strong Strengthening Ser...  \n",
       "162   Garnier Color Naturals is creme hair colour wh...  \n",
       "212   It is an oil-enriched cream colour which gives...  \n",
       "447   Garnier Black Naturals is enriched with the go...  \n",
       "1329  Garnier introduces a new generation of face ma...  "
      ]
     },
     "execution_count": 6,
     "metadata": {},
     "output_type": "execute_result"
    }
   ],
   "source": [
    "df = df[df['brand'] == 'Garnier']\n",
    "df.head()"
   ]
  },
  {
   "cell_type": "code",
   "execution_count": 7,
   "metadata": {},
   "outputs": [],
   "source": [
    "# df.to_csv(\"../data/bigbasket_garnier.csv\", index=False)"
   ]
  },
  {
   "cell_type": "code",
   "execution_count": 12,
   "metadata": {},
   "outputs": [
    {
     "data": {
      "text/plain": [
       "179"
      ]
     },
     "execution_count": 12,
     "metadata": {},
     "output_type": "execute_result"
    }
   ],
   "source": [
    "text_splitter = RecursiveCharacterTextSplitter(chunk_size=256, chunk_overlap=10)\n",
    "chunks = text_splitter.create_documents(df.description.values, metadatas=[{\"product_name\": i} for i in df[\"product\"].values] )\n",
    "len(chunks)"
   ]
  },
  {
   "cell_type": "code",
   "execution_count": 13,
   "metadata": {},
   "outputs": [
    {
     "data": {
      "text/plain": [
       "'Product name: Fructis Serum - Long & Strong\\nGarnier Fruits Long & Strong Strengthening Serum detangles unruly hair, softens hair without heaviness and helps stop split and breakage ends. It is enriched with the goodness of Grape seed and avocado oil that result in smoother, shinier and longer hair.'"
      ]
     },
     "execution_count": 13,
     "metadata": {},
     "output_type": "execute_result"
    }
   ],
   "source": [
    "def add_product_name_to_page_content(chunk):\n",
    "    chunk.page_content = f\"Product name: {chunk.metadata['product_name']}\\n{chunk.page_content}\"\n",
    "\n",
    "for chunk in chunks:\n",
    "    add_product_name_to_page_content(chunk)\n",
    "    \n",
    "chunks[0].page_content"
   ]
  },
  {
   "cell_type": "code",
   "execution_count": 14,
   "metadata": {},
   "outputs": [],
   "source": [
    "index_name = \"webinar\"\n",
    "\n",
    "# instantiate a Pinecone client\n",
    "pc = Pinecone(api_key=os.getenv(\"PINECONE_API_KEY\"))\n",
    "embeddings = OpenAIEmbeddings(model=\"text-embedding-3-small\")"
   ]
  },
  {
   "cell_type": "code",
   "execution_count": 16,
   "metadata": {},
   "outputs": [],
   "source": [
    "# First, check if our index already exists. If it doesn't, we create it\n",
    "if index_name not in [index_info['name'] for index_info in pc.list_indexes()]:\n",
    "    # we create a new index\n",
    "    pc.create_index(name=index_name, metric=\"cosine\", dimension=1536, # The OpenAI embedding model uses 1536 dimensions`\n",
    "                    spec=ServerlessSpec(\n",
    "                    cloud=\"aws\",\n",
    "                    region=\"us-west-2\"\n",
    "                ) )"
   ]
  },
  {
   "cell_type": "code",
   "execution_count": 17,
   "metadata": {},
   "outputs": [
    {
     "name": "stderr",
     "output_type": "stream",
     "text": [
      "Warning: model not found. Using cl100k_base encoding.\n"
     ]
    }
   ],
   "source": [
    "docsearch = langchain_pinecone.from_documents(chunks, embeddings, index_name=index_name)"
   ]
  },
  {
   "cell_type": "code",
   "execution_count": 23,
   "metadata": {},
   "outputs": [
    {
     "data": {
      "text/plain": [
       "{'dimension': 1536,\n",
       " 'index_fullness': 0.0,\n",
       " 'namespaces': {'': {'vector_count': 179}},\n",
       " 'total_vector_count': 179}"
      ]
     },
     "execution_count": 23,
     "metadata": {},
     "output_type": "execute_result"
    }
   ],
   "source": [
    "# connect to index\n",
    "index = pc.Index(index_name)\n",
    "# view index stats\n",
    "index.describe_index_stats()"
   ]
  },
  {
   "cell_type": "code",
   "execution_count": 26,
   "metadata": {},
   "outputs": [
    {
     "name": "stderr",
     "output_type": "stream",
     "text": [
      "Warning: model not found. Using cl100k_base encoding.\n"
     ]
    },
    {
     "data": {
      "text/plain": [
       "[Document(page_content='Product name: Fructis Serum - Long & Strong\\nGarnier Fruits Long & Strong Strengthening Serum detangles unruly hair, softens hair without heaviness and helps stop split and breakage ends. It is enriched with the goodness of Grape seed and avocado oil that result in smoother, shinier and longer hair.', metadata={'product_name': 'Fructis Serum - Long & Strong'}),\n",
       " Document(page_content='Product name: Fructis Serum - Long & Strong\\nhair.  For Beauty tips, tricks & more visit https://bigbasket.blog/', metadata={'product_name': 'Fructis Serum - Long & Strong'}),\n",
       " Document(page_content='Product name: Fructis - Long & Strong Strengthening Shampoo\\nTransform weak and brittle hair into luscious locks with Garniers Long and Strong Fructus Fortifying Shampoo. This shampoo nourishes hair from the root, right down to the tip. The nutrients and minerals are absorbed within the hair and strengthened from', metadata={'product_name': 'Fructis - Long & Strong Strengthening Shampoo'}),\n",
       " Document(page_content='Product name: Fructis - Long & Strong Strengthening Conditioner\\nThe Garnier Fructis Long and Strong Fortifying Cream Conditioner infuses every inch of your strand with nutrition and helps them stay smooth and long. This Fortifying Cream Conditioner can also be used by men who wish to flaunt healthy looking hair. With', metadata={'product_name': 'Fructis - Long & Strong Strengthening Conditioner'}),\n",
       " Document(page_content='Product name: Fructis Shampoo - Long & Strong Strengthening\\nNourish your dry and damaged hair with Garnier Fructis Triple Nutrition Shampoo. It is enriched with the goodness of three nourishing oils of olive, coconut and almond. The Vitamin E from these oils help moisturise the scalp and get rid of the dryness. It', metadata={'product_name': 'Fructis Shampoo - Long & Strong Strengthening'}),\n",
       " Document(page_content='Product name: Fructis Shampoo - Long & Strong Strengthening\\nIt helps to repair damaged hair. It results in silky smooth hair. It makes the scalp healthy and prevents from hair breakage. The natural oils help to maintain the natural moisture in the scalp and retain it. Ideal for people with dry, over dried and', metadata={'product_name': 'Fructis Shampoo - Long & Strong Strengthening'}),\n",
       " Document(page_content='Product name: Fructis - Long & Strong Strengthening Conditioner\\nWith the Garnier Fructis Long and Strong Conditioner, you can give a miss to your scheduled haircut appointment at the salon as the main cause of hair breakage and split ends are addressed. You dont have to worry about your hair being too limp or', metadata={'product_name': 'Fructis - Long & Strong Strengthening Conditioner'}),\n",
       " Document(page_content='Product name: Fructis Shampoo - Long & Strong Strengthening\\ndried and damaged hair.  For Beauty tips, tricks & more visit https://bigbasket.blog/', metadata={'product_name': 'Fructis Shampoo - Long & Strong Strengthening'}),\n",
       " Document(page_content='Product name: Fructis - Long & Strong Strengthening Shampoo\\nthe out. This innovative formula is made up of active fruit complexes that use the natural extract of fruit to nurture each and every strand. The apple within this conditioner contains essential vitamins and minerals that leave your hair feeling refresh', metadata={'product_name': 'Fructis - Long & Strong Strengthening Shampoo'}),\n",
       " Document(page_content='Product name: Fructis - Long & Strong Strengthening Shampoo\\nfrom within. Ensure your hair is taken care of the correct way with this shampoo that promises to nourish your hair and keep it detangled, without that unpleasant, heavy feeling. Make your hair shiny, luscious and strong on the inside, shiny on the out.', metadata={'product_name': 'Fructis - Long & Strong Strengthening Shampoo'})]"
      ]
     },
     "execution_count": 26,
     "metadata": {},
     "output_type": "execute_result"
    }
   ],
   "source": [
    "# if you already have an index, you can load it like this\n",
    "# docsearch = Pinecone.from_existing_index(index_name, embeddings)\n",
    "\n",
    "query = \"Does Garnier Fruits Long & Strong Strengthening Serum help in hair growth?\"\n",
    "docs = docsearch.similarity_search(query, k=10)\n",
    "docs"
   ]
  },
  {
   "cell_type": "code",
   "execution_count": 15,
   "metadata": {},
   "outputs": [],
   "source": [
    "# pc.delete_index('webinar')"
   ]
  },
  {
   "cell_type": "code",
   "execution_count": 36,
   "metadata": {},
   "outputs": [],
   "source": []
  },
  {
   "cell_type": "code",
   "execution_count": null,
   "metadata": {},
   "outputs": [],
   "source": []
  }
 ],
 "metadata": {
  "kernelspec": {
   "display_name": "rag",
   "language": "python",
   "name": "python3"
  },
  "language_info": {
   "codemirror_mode": {
    "name": "ipython",
    "version": 3
   },
   "file_extension": ".py",
   "mimetype": "text/x-python",
   "name": "python",
   "nbconvert_exporter": "python",
   "pygments_lexer": "ipython3",
   "version": "3.11.7"
  }
 },
 "nbformat": 4,
 "nbformat_minor": 2
}
