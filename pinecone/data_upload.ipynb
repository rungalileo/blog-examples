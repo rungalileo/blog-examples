{
 "cells": [
  {
   "cell_type": "code",
   "execution_count": 1,
   "metadata": {},
   "outputs": [
    {
     "name": "stderr",
     "output_type": "stream",
     "text": [
      "/home/ubuntu/miniconda3/envs/rag/lib/python3.11/site-packages/torch/cuda/__init__.py:628: UserWarning: Can't initialize NVML\n",
      "  warnings.warn(\"Can't initialize NVML\")\n"
     ]
    },
    {
     "data": {
      "text/plain": [
       "True"
      ]
     },
     "execution_count": 1,
     "metadata": {},
     "output_type": "execute_result"
    }
   ],
   "source": [
    "import sys, os, time\n",
    "\n",
    "from pinecone import Pinecone, ServerlessSpec\n",
    "from dotenv import load_dotenv\n",
    "from datasets import load_dataset\n",
    "import pandas as pd\n",
    "\n",
    "from langchain_community.vectorstores import Pinecone as langchain_pinecone\n",
    "from common import SpacySentenceTokenizer, get_indexing_configuration\n",
    "\n",
    "load_dotenv(\"../.env\")"
   ]
  },
  {
   "cell_type": "code",
   "execution_count": 2,
   "metadata": {},
   "outputs": [
    {
     "data": {
      "text/html": [
       "<div>\n",
       "<style scoped>\n",
       "    .dataframe tbody tr th:only-of-type {\n",
       "        vertical-align: middle;\n",
       "    }\n",
       "\n",
       "    .dataframe tbody tr th {\n",
       "        vertical-align: top;\n",
       "    }\n",
       "\n",
       "    .dataframe thead th {\n",
       "        text-align: right;\n",
       "    }\n",
       "</style>\n",
       "<table border=\"1\" class=\"dataframe\">\n",
       "  <thead>\n",
       "    <tr style=\"text-align: right;\">\n",
       "      <th></th>\n",
       "      <th>index</th>\n",
       "      <th>product</th>\n",
       "      <th>category</th>\n",
       "      <th>sub_category</th>\n",
       "      <th>brand</th>\n",
       "      <th>sale_price</th>\n",
       "      <th>market_price</th>\n",
       "      <th>type</th>\n",
       "      <th>rating</th>\n",
       "      <th>description</th>\n",
       "      <th>questions</th>\n",
       "    </tr>\n",
       "  </thead>\n",
       "  <tbody>\n",
       "    <tr>\n",
       "      <th>0</th>\n",
       "      <td>935</td>\n",
       "      <td>6 Oil Nourish Conditioner</td>\n",
       "      <td>Beauty &amp; Hygiene</td>\n",
       "      <td>Hair Care</td>\n",
       "      <td>Loreal Paris</td>\n",
       "      <td>159.0</td>\n",
       "      <td>199.0</td>\n",
       "      <td>Shampoo &amp; Conditioner</td>\n",
       "      <td>4.3</td>\n",
       "      <td>Does your hair get frizzy and unmanageable? Ar...</td>\n",
       "      <td>['Is 6 Oil Nourish Conditioner for all hair ty...</td>\n",
       "    </tr>\n",
       "    <tr>\n",
       "      <th>1</th>\n",
       "      <td>984</td>\n",
       "      <td>Men Expert White Activ Intensive Whitening Foam</td>\n",
       "      <td>Beauty &amp; Hygiene</td>\n",
       "      <td>Men's Grooming</td>\n",
       "      <td>Loreal Paris</td>\n",
       "      <td>499.0</td>\n",
       "      <td>499.0</td>\n",
       "      <td>Face &amp; Body</td>\n",
       "      <td>3.0</td>\n",
       "      <td>LOreal Men Expert White Activ intensive whiten...</td>\n",
       "      <td>['Does LOreal Men Expert White Activ Intensive...</td>\n",
       "    </tr>\n",
       "  </tbody>\n",
       "</table>\n",
       "</div>"
      ],
      "text/plain": [
       "   index                                          product          category  \\\n",
       "0    935                        6 Oil Nourish Conditioner  Beauty & Hygiene   \n",
       "1    984  Men Expert White Activ Intensive Whitening Foam  Beauty & Hygiene   \n",
       "\n",
       "     sub_category         brand  sale_price  market_price  \\\n",
       "0       Hair Care  Loreal Paris       159.0         199.0   \n",
       "1  Men's Grooming  Loreal Paris       499.0         499.0   \n",
       "\n",
       "                    type  rating  \\\n",
       "0  Shampoo & Conditioner     4.3   \n",
       "1            Face & Body     3.0   \n",
       "\n",
       "                                         description  \\\n",
       "0  Does your hair get frizzy and unmanageable? Ar...   \n",
       "1  LOreal Men Expert White Activ intensive whiten...   \n",
       "\n",
       "                                           questions  \n",
       "0  ['Is 6 Oil Nourish Conditioner for all hair ty...  \n",
       "1  ['Does LOreal Men Expert White Activ Intensive...  "
      ]
     },
     "execution_count": 2,
     "metadata": {},
     "output_type": "execute_result"
    }
   ],
   "source": [
    "df = pd.read_csv(\"../data/bigbasket_loreal.csv\")\n",
    "df.head(2)"
   ]
  },
  {
   "cell_type": "code",
   "execution_count": 3,
   "metadata": {},
   "outputs": [],
   "source": [
    "# tokenzier = SpacySentenceTokenizer()\n",
    "# text = \"This is first sentence. This is second sentence.\"\n",
    "# docs = tokenzier.create_documents([text, text], metadatas=[{\"id\": 1}, {\"id\": 2}])\n",
    "# print(docs)"
   ]
  },
  {
   "cell_type": "code",
   "execution_count": 4,
   "metadata": {},
   "outputs": [
    {
     "data": {
      "text/plain": [
       "(760, None, None, 'loreal-sst-openai-large')"
      ]
     },
     "execution_count": 4,
     "metadata": {},
     "output_type": "execute_result"
    }
   ],
   "source": [
    "indexing_config = 5\n",
    "text_splitter, embeddings, dimension, index_name = get_indexing_configuration(indexing_config)\n",
    "    \n",
    "chunks = text_splitter.create_documents(df.description.values, metadatas=[{\"product_name\": i} for i in df[\"product\"].values] )\n",
    "len(chunks), text_splitter._chunk_size, text_splitter._chunk_overlap, index_name"
   ]
  },
  {
   "cell_type": "code",
   "execution_count": 5,
   "metadata": {},
   "outputs": [
    {
     "name": "stdout",
     "output_type": "stream",
     "text": [
      "Product name: 6 Oil Nourish Conditioner\n",
      "Does your hair get frizzy and unmanageable?\n"
     ]
    }
   ],
   "source": [
    "def add_product_name_to_page_content(chunk):\n",
    "    chunk.page_content = f\"Product name: {chunk.metadata['product_name']}\\n{chunk.page_content}\"\n",
    "\n",
    "for chunk in chunks:\n",
    "    add_product_name_to_page_content(chunk)\n",
    "    \n",
    "print(chunks[0].page_content)"
   ]
  },
  {
   "cell_type": "code",
   "execution_count": 6,
   "metadata": {},
   "outputs": [],
   "source": [
    "# instantiate a Pinecone client\n",
    "pc = Pinecone(api_key=os.getenv(\"PINECONE_API_KEY\"))\n",
    "\n",
    "# First, check if our index already exists. If it doesn't, we create it\n",
    "if index_name not in [index_info['name'] for index_info in pc.list_indexes()]:\n",
    "    # we create a new index\n",
    "    pc.create_index(name=index_name, metric=\"cosine\", dimension=dimension, # The OpenAI embedding model uses 1536 dimensions`\n",
    "                    spec=ServerlessSpec(\n",
    "                    cloud=\"aws\",\n",
    "                    region=\"us-west-2\"\n",
    "                ) )"
   ]
  },
  {
   "cell_type": "code",
   "execution_count": 7,
   "metadata": {},
   "outputs": [
    {
     "name": "stderr",
     "output_type": "stream",
     "text": [
      "Warning: model not found. Using cl100k_base encoding.\n"
     ]
    }
   ],
   "source": [
    "docsearch = langchain_pinecone.from_documents(chunks, embeddings, index_name=index_name)"
   ]
  },
  {
   "cell_type": "code",
   "execution_count": 10,
   "metadata": {},
   "outputs": [
    {
     "data": {
      "text/plain": [
       "{'dimension': 3072,\n",
       " 'index_fullness': 0.0,\n",
       " 'namespaces': {'': {'vector_count': 760}},\n",
       " 'total_vector_count': 760}"
      ]
     },
     "execution_count": 10,
     "metadata": {},
     "output_type": "execute_result"
    }
   ],
   "source": [
    "# connect to index\n",
    "index = pc.Index(index_name)\n",
    "# view index stats\n",
    "index.describe_index_stats()"
   ]
  },
  {
   "cell_type": "code",
   "execution_count": 9,
   "metadata": {},
   "outputs": [
    {
     "name": "stderr",
     "output_type": "stream",
     "text": [
      "Warning: model not found. Using cl100k_base encoding.\n"
     ]
    },
    {
     "data": {
      "text/plain": [
       "[Document(page_content='Product name: Total Repair 5 Serum\\nExplore our best hair products to revive and repair damaged hair.', metadata={'product_name': 'Total Repair 5 Serum'}),\n",
       " Document(page_content='Product name: Total Repair 5 Serum\\nExplore our best hair products to revive and repair damaged hair.', metadata={'product_name': 'Total Repair 5 Serum'}),\n",
       " Document(page_content='Product name: Total Repair 5 Serum\\nExplore our best hair products to revive and repair damaged hair.', metadata={'product_name': 'Total Repair 5 Serum'}),\n",
       " Document(page_content='Product name: Total Repair 5 Serum\\nExplore our best hair products to revive and repair damaged hair.', metadata={'product_name': 'Total Repair 5 Serum'}),\n",
       " Document(page_content='Product name: Total Repair 5 Serum\\nExplore our best hair products to revive and repair damaged hair.', metadata={'product_name': 'Total Repair 5 Serum'}),\n",
       " Document(page_content='Product name: Total Repair 5 Serum\\nExplore our best hair products to revive and repair damaged hair.', metadata={'product_name': 'Total Repair 5 Serum'}),\n",
       " Document(page_content='Product name: Total Repair 5 Serum\\nExplore our best hair products to revive and repair damaged hair.', metadata={'product_name': 'Total Repair 5 Serum'}),\n",
       " Document(page_content='Product name: Total Repair 5 Shampoo\\nExplore our best hair products to revive and repair damaged hair.', metadata={'product_name': 'Total Repair 5 Shampoo'}),\n",
       " Document(page_content='Product name: Rapid Reviver Total Repair 5 Deep Conditioner\\nIt revives dry and damaged strands and leaves the hair feeling renewed.', metadata={'product_name': 'Rapid Reviver Total Repair 5 Deep Conditioner'}),\n",
       " Document(page_content='Product name: Total Repair 5 Shampoo 640 ml + Total Repair 5 Conditioner 175 ml\\nExplore our best hair products to revive and repair damaged hair.', metadata={'product_name': 'Total Repair 5 Shampoo 640 ml + Total Repair 5 Conditioner 175 ml'})]"
      ]
     },
     "execution_count": 9,
     "metadata": {},
     "output_type": "execute_result"
    }
   ],
   "source": [
    "# if you already have an index, you can load it like this\n",
    "# docsearch = Pinecone.from_existing_index(index_name, embeddings)\n",
    "\n",
    "query = \"Does Loreal Total Repair 5 Serum help in hair growth?\"\n",
    "docs = docsearch.similarity_search(query, k=10)\n",
    "docs"
   ]
  },
  {
   "cell_type": "code",
   "execution_count": 33,
   "metadata": {},
   "outputs": [],
   "source": [
    "# pc.delete_index(index_name)"
   ]
  }
 ],
 "metadata": {
  "kernelspec": {
   "display_name": "rag",
   "language": "python",
   "name": "python3"
  },
  "language_info": {
   "codemirror_mode": {
    "name": "ipython",
    "version": 3
   },
   "file_extension": ".py",
   "mimetype": "text/x-python",
   "name": "python",
   "nbconvert_exporter": "python",
   "pygments_lexer": "ipython3",
   "version": "3.11.7"
  }
 },
 "nbformat": 4,
 "nbformat_minor": 2
}
