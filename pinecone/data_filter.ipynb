{
 "cells": [
  {
   "cell_type": "code",
   "execution_count": 1,
   "metadata": {},
   "outputs": [],
   "source": [
    "import pandas as pd"
   ]
  },
  {
   "cell_type": "code",
   "execution_count": 2,
   "metadata": {},
   "outputs": [
    {
     "data": {
      "text/html": [
       "<div>\n",
       "<style scoped>\n",
       "    .dataframe tbody tr th:only-of-type {\n",
       "        vertical-align: middle;\n",
       "    }\n",
       "\n",
       "    .dataframe tbody tr th {\n",
       "        vertical-align: top;\n",
       "    }\n",
       "\n",
       "    .dataframe thead th {\n",
       "        text-align: right;\n",
       "    }\n",
       "</style>\n",
       "<table border=\"1\" class=\"dataframe\">\n",
       "  <thead>\n",
       "    <tr style=\"text-align: right;\">\n",
       "      <th></th>\n",
       "      <th>index</th>\n",
       "      <th>product</th>\n",
       "      <th>category</th>\n",
       "      <th>sub_category</th>\n",
       "      <th>brand</th>\n",
       "      <th>sale_price</th>\n",
       "      <th>market_price</th>\n",
       "      <th>type</th>\n",
       "      <th>rating</th>\n",
       "      <th>description</th>\n",
       "    </tr>\n",
       "  </thead>\n",
       "  <tbody>\n",
       "    <tr>\n",
       "      <th>0</th>\n",
       "      <td>1</td>\n",
       "      <td>Garlic Oil - Vegetarian Capsule 500 mg</td>\n",
       "      <td>Beauty &amp; Hygiene</td>\n",
       "      <td>Hair Care</td>\n",
       "      <td>Sri Sri Ayurveda</td>\n",
       "      <td>220.0</td>\n",
       "      <td>220.0</td>\n",
       "      <td>Hair Oil &amp; Serum</td>\n",
       "      <td>4.1</td>\n",
       "      <td>This Product contains Garlic Oil that is known...</td>\n",
       "    </tr>\n",
       "    <tr>\n",
       "      <th>1</th>\n",
       "      <td>2</td>\n",
       "      <td>Water Bottle - Orange</td>\n",
       "      <td>Kitchen, Garden &amp; Pets</td>\n",
       "      <td>Storage &amp; Accessories</td>\n",
       "      <td>Mastercook</td>\n",
       "      <td>180.0</td>\n",
       "      <td>180.0</td>\n",
       "      <td>Water &amp; Fridge Bottles</td>\n",
       "      <td>2.3</td>\n",
       "      <td>Each product is microwave safe (without lid), ...</td>\n",
       "    </tr>\n",
       "  </tbody>\n",
       "</table>\n",
       "</div>"
      ],
      "text/plain": [
       "   index                                 product                category  \\\n",
       "0      1  Garlic Oil - Vegetarian Capsule 500 mg        Beauty & Hygiene   \n",
       "1      2                   Water Bottle - Orange  Kitchen, Garden & Pets   \n",
       "\n",
       "            sub_category              brand  sale_price  market_price  \\\n",
       "0              Hair Care  Sri Sri Ayurveda        220.0         220.0   \n",
       "1  Storage & Accessories         Mastercook       180.0         180.0   \n",
       "\n",
       "                     type  rating  \\\n",
       "0        Hair Oil & Serum     4.1   \n",
       "1  Water & Fridge Bottles     2.3   \n",
       "\n",
       "                                         description  \n",
       "0  This Product contains Garlic Oil that is known...  \n",
       "1  Each product is microwave safe (without lid), ...  "
      ]
     },
     "execution_count": 2,
     "metadata": {},
     "output_type": "execute_result"
    }
   ],
   "source": [
    "# BigBasket dataset\n",
    "# https://www.kaggle.com/datasets/surajjha101/bigbasket-entire-product-list-28k-datapoints\n",
    "df = pd.read_csv(\"../data/bigbasket.csv\")\n",
    "df.head(2)"
   ]
  },
  {
   "cell_type": "code",
   "execution_count": 3,
   "metadata": {},
   "outputs": [
    {
     "data": {
      "text/plain": [
       "Index(['index', 'product', 'category', 'sub_category', 'brand', 'sale_price',\n",
       "       'market_price', 'type', 'rating', 'description'],\n",
       "      dtype='object')"
      ]
     },
     "execution_count": 3,
     "metadata": {},
     "output_type": "execute_result"
    }
   ],
   "source": [
    "df.columns"
   ]
  },
  {
   "cell_type": "code",
   "execution_count": 5,
   "metadata": {},
   "outputs": [
    {
     "data": {
      "text/plain": [
       "brand\n",
       "INATUR                    146\n",
       "Nike                      124\n",
       "BIOTIQUE                  115\n",
       "Aroma Magic               109\n",
       "Colgate                   107\n",
       "Himalaya                  107\n",
       "Loreal Paris              104\n",
       "Dabur                      95\n",
       "StBotanica                 94\n",
       "Organic Harvest            90\n",
       "Khadi Natural              88\n",
       "Nivea                      87\n",
       "Sri Sri Tattva             86\n",
       "Jiva Ayurveda              85\n",
       "Soulflower                 84\n",
       "Meghdoot                   80\n",
       "Aroma Treasures            70\n",
       "Fogg                       69\n",
       "Nivea Men                  68\n",
       "Ajmal                      68\n",
       "Kerala Ayurveda            68\n",
       "Kaya Clinic                67\n",
       "Aloe Veda                  66\n",
       "Dettol                     66\n",
       "Vlcc                       65\n",
       "Park avenue                64\n",
       "Mamaearth                  63\n",
       "Schwarzkopf                59\n",
       "Yardley London             57\n",
       "Bombay Shaving Company     56\n",
       "Nyassa                     56\n",
       "Engage                     56\n",
       "The Face Shop              55\n",
       "Set Wet                    55\n",
       "Lotus Herbals              54\n",
       "Lakme                      53\n",
       "Gillette                   53\n",
       "Bixa Botanical             52\n",
       "Garnier                    50\n",
       "Ponds                      48\n",
       "BB Home                    47\n",
       "It's Skin                  46\n",
       "Just Herbs                 46\n",
       "Sirona                     45\n",
       "Bella                      44\n",
       "ORGANIC INDIA              43\n",
       "Joy                        42\n",
       "Natures Essence            42\n",
       "Baidyanath                 42\n",
       "Fiama                      41\n",
       "Name: count, dtype: int64"
      ]
     },
     "execution_count": 5,
     "metadata": {},
     "output_type": "execute_result"
    }
   ],
   "source": [
    "df[df.category == \"Beauty & Hygiene\"].brand.value_counts().head(50)"
   ]
  },
  {
   "cell_type": "code",
   "execution_count": 10,
   "metadata": {},
   "outputs": [
    {
     "name": "stdout",
     "output_type": "stream",
     "text": [
      "743\n"
     ]
    },
    {
     "data": {
      "text/html": [
       "<div>\n",
       "<style scoped>\n",
       "    .dataframe tbody tr th:only-of-type {\n",
       "        vertical-align: middle;\n",
       "    }\n",
       "\n",
       "    .dataframe tbody tr th {\n",
       "        vertical-align: top;\n",
       "    }\n",
       "\n",
       "    .dataframe thead th {\n",
       "        text-align: right;\n",
       "    }\n",
       "</style>\n",
       "<table border=\"1\" class=\"dataframe\">\n",
       "  <thead>\n",
       "    <tr style=\"text-align: right;\">\n",
       "      <th></th>\n",
       "      <th>index</th>\n",
       "      <th>product</th>\n",
       "      <th>category</th>\n",
       "      <th>sub_category</th>\n",
       "      <th>brand</th>\n",
       "      <th>sale_price</th>\n",
       "      <th>market_price</th>\n",
       "      <th>type</th>\n",
       "      <th>rating</th>\n",
       "      <th>description</th>\n",
       "    </tr>\n",
       "  </thead>\n",
       "  <tbody>\n",
       "    <tr>\n",
       "      <th>4</th>\n",
       "      <td>5</td>\n",
       "      <td>Creme Soft Soap - For Hands &amp; Body</td>\n",
       "      <td>Beauty &amp; Hygiene</td>\n",
       "      <td>Bath &amp; Hand Wash</td>\n",
       "      <td>Nivea</td>\n",
       "      <td>162.0</td>\n",
       "      <td>162.0</td>\n",
       "      <td>Bathing Bars &amp; Soaps</td>\n",
       "      <td>4.4</td>\n",
       "      <td>Nivea Creme Soft Soap gives your skin the best...</td>\n",
       "    </tr>\n",
       "    <tr>\n",
       "      <th>102</th>\n",
       "      <td>103</td>\n",
       "      <td>Fructis Serum - Long &amp; Strong</td>\n",
       "      <td>Beauty &amp; Hygiene</td>\n",
       "      <td>Hair Care</td>\n",
       "      <td>Garnier</td>\n",
       "      <td>230.0</td>\n",
       "      <td>230.0</td>\n",
       "      <td>Shampoo &amp; Conditioner</td>\n",
       "      <td>4.8</td>\n",
       "      <td>Garnier Fruits Long &amp; Strong Strengthening Ser...</td>\n",
       "    </tr>\n",
       "    <tr>\n",
       "      <th>127</th>\n",
       "      <td>128</td>\n",
       "      <td>Cherry Lip Balm 4.5 g + Deep Nourish Elbow &amp; F...</td>\n",
       "      <td>Beauty &amp; Hygiene</td>\n",
       "      <td>Skin Care</td>\n",
       "      <td>Kaya Clinic</td>\n",
       "      <td>455.0</td>\n",
       "      <td>525.0</td>\n",
       "      <td>Lip Care</td>\n",
       "      <td>NaN</td>\n",
       "      <td>Cherry Lip Balm:\\n\\nThe skin on your lips is t...</td>\n",
       "    </tr>\n",
       "    <tr>\n",
       "      <th>162</th>\n",
       "      <td>163</td>\n",
       "      <td>Color Naturals Creme Riche Ultra Hair Color - ...</td>\n",
       "      <td>Beauty &amp; Hygiene</td>\n",
       "      <td>Hair Care</td>\n",
       "      <td>Garnier</td>\n",
       "      <td>199.0</td>\n",
       "      <td>199.0</td>\n",
       "      <td>Hair Color</td>\n",
       "      <td>4.1</td>\n",
       "      <td>Garnier Color Naturals is creme hair colour wh...</td>\n",
       "    </tr>\n",
       "    <tr>\n",
       "      <th>171</th>\n",
       "      <td>172</td>\n",
       "      <td>Coffee Energizing Face Scrub</td>\n",
       "      <td>Beauty &amp; Hygiene</td>\n",
       "      <td>Skin Care</td>\n",
       "      <td>BIOTIQUE</td>\n",
       "      <td>142.5</td>\n",
       "      <td>190.0</td>\n",
       "      <td>Face Care</td>\n",
       "      <td>3.0</td>\n",
       "      <td>Biotique Coffee Energizing Face Scrub is enric...</td>\n",
       "    </tr>\n",
       "  </tbody>\n",
       "</table>\n",
       "</div>"
      ],
      "text/plain": [
       "     index                                            product  \\\n",
       "4        5                 Creme Soft Soap - For Hands & Body   \n",
       "102    103                      Fructis Serum - Long & Strong   \n",
       "127    128  Cherry Lip Balm 4.5 g + Deep Nourish Elbow & F...   \n",
       "162    163  Color Naturals Creme Riche Ultra Hair Color - ...   \n",
       "171    172                       Coffee Energizing Face Scrub   \n",
       "\n",
       "             category      sub_category        brand  sale_price  \\\n",
       "4    Beauty & Hygiene  Bath & Hand Wash        Nivea       162.0   \n",
       "102  Beauty & Hygiene         Hair Care      Garnier       230.0   \n",
       "127  Beauty & Hygiene         Skin Care  Kaya Clinic       455.0   \n",
       "162  Beauty & Hygiene         Hair Care      Garnier       199.0   \n",
       "171  Beauty & Hygiene         Skin Care     BIOTIQUE       142.5   \n",
       "\n",
       "     market_price                   type  rating  \\\n",
       "4           162.0   Bathing Bars & Soaps     4.4   \n",
       "102         230.0  Shampoo & Conditioner     4.8   \n",
       "127         525.0               Lip Care     NaN   \n",
       "162         199.0             Hair Color     4.1   \n",
       "171         190.0              Face Care     3.0   \n",
       "\n",
       "                                           description  \n",
       "4    Nivea Creme Soft Soap gives your skin the best...  \n",
       "102  Garnier Fruits Long & Strong Strengthening Ser...  \n",
       "127  Cherry Lip Balm:\\n\\nThe skin on your lips is t...  \n",
       "162  Garnier Color Naturals is creme hair colour wh...  \n",
       "171  Biotique Coffee Energizing Face Scrub is enric...  "
      ]
     },
     "execution_count": 10,
     "metadata": {},
     "output_type": "execute_result"
    }
   ],
   "source": [
    "df = df[df['brand'].isin([\"BIOTIQUE\", \"Himalaya\", \"Loreal Paris\", \"Nivea\", \"Nivea Men\", \"Kaya Clinic\", \"Mamaearth\", \"Lakme\", \"Schwarzkopf\", \"Garnier\", \"Fiama\"])]\n",
    "print(len(df))\n",
    "df.head()"
   ]
  },
  {
   "cell_type": "code",
   "execution_count": 11,
   "metadata": {},
   "outputs": [],
   "source": [
    "rows = 700\n",
    "df.iloc[:rows].to_csv(\"../data/bigbasket_beauty.csv\", index=False)"
   ]
  },
  {
   "cell_type": "code",
   "execution_count": null,
   "metadata": {},
   "outputs": [],
   "source": []
  }
 ],
 "metadata": {
  "kernelspec": {
   "display_name": "rag",
   "language": "python",
   "name": "python3"
  },
  "language_info": {
   "codemirror_mode": {
    "name": "ipython",
    "version": 3
   },
   "file_extension": ".py",
   "mimetype": "text/x-python",
   "name": "python",
   "nbconvert_exporter": "python",
   "pygments_lexer": "ipython3",
   "version": "3.11.7"
  }
 },
 "nbformat": 4,
 "nbformat_minor": 2
}
