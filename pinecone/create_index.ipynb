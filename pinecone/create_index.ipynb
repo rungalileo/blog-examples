{
 "cells": [
  {
   "cell_type": "code",
   "execution_count": 1,
   "metadata": {},
   "outputs": [
    {
     "name": "stderr",
     "output_type": "stream",
     "text": [
      "/home/ubuntu/miniconda3/envs/rag/lib/python3.11/site-packages/torch/cuda/__init__.py:628: UserWarning: Can't initialize NVML\n",
      "  warnings.warn(\"Can't initialize NVML\")\n"
     ]
    },
    {
     "data": {
      "text/plain": [
       "True"
      ]
     },
     "execution_count": 1,
     "metadata": {},
     "output_type": "execute_result"
    }
   ],
   "source": [
    "import sys, os, time\n",
    "\n",
    "from pinecone import Pinecone, ServerlessSpec\n",
    "from dotenv import load_dotenv\n",
    "from datasets import load_dataset\n",
    "import pandas as pd\n",
    "\n",
    "from langchain_community.vectorstores import Pinecone as langchain_pinecone\n",
    "from common import SpacySentenceTokenizer, get_indexing_configuration\n",
    "\n",
    "load_dotenv(\"../.env\")"
   ]
  },
  {
   "cell_type": "code",
   "execution_count": 2,
   "metadata": {},
   "outputs": [
    {
     "data": {
      "text/html": [
       "<div>\n",
       "<style scoped>\n",
       "    .dataframe tbody tr th:only-of-type {\n",
       "        vertical-align: middle;\n",
       "    }\n",
       "\n",
       "    .dataframe tbody tr th {\n",
       "        vertical-align: top;\n",
       "    }\n",
       "\n",
       "    .dataframe thead th {\n",
       "        text-align: right;\n",
       "    }\n",
       "</style>\n",
       "<table border=\"1\" class=\"dataframe\">\n",
       "  <thead>\n",
       "    <tr style=\"text-align: right;\">\n",
       "      <th></th>\n",
       "      <th>index</th>\n",
       "      <th>product</th>\n",
       "      <th>category</th>\n",
       "      <th>sub_category</th>\n",
       "      <th>brand</th>\n",
       "      <th>sale_price</th>\n",
       "      <th>market_price</th>\n",
       "      <th>type</th>\n",
       "      <th>rating</th>\n",
       "      <th>description</th>\n",
       "      <th>questions</th>\n",
       "    </tr>\n",
       "  </thead>\n",
       "  <tbody>\n",
       "    <tr>\n",
       "      <th>0</th>\n",
       "      <td>5</td>\n",
       "      <td>Creme Soft Soap - For Hands &amp; Body</td>\n",
       "      <td>Beauty &amp; Hygiene</td>\n",
       "      <td>Bath &amp; Hand Wash</td>\n",
       "      <td>Nivea</td>\n",
       "      <td>162.0</td>\n",
       "      <td>162.0</td>\n",
       "      <td>Bathing Bars &amp; Soaps</td>\n",
       "      <td>4.4</td>\n",
       "      <td>Nivea Creme Soft Soap gives your skin the best...</td>\n",
       "      <td>['Is Nivea Creme Soft Soap effective for washi...</td>\n",
       "    </tr>\n",
       "    <tr>\n",
       "      <th>1</th>\n",
       "      <td>103</td>\n",
       "      <td>Fructis Serum - Long &amp; Strong</td>\n",
       "      <td>Beauty &amp; Hygiene</td>\n",
       "      <td>Hair Care</td>\n",
       "      <td>Garnier</td>\n",
       "      <td>230.0</td>\n",
       "      <td>230.0</td>\n",
       "      <td>Shampoo &amp; Conditioner</td>\n",
       "      <td>4.8</td>\n",
       "      <td>Garnier Fruits Long &amp; Strong Strengthening Ser...</td>\n",
       "      <td>['Does Fructis Serum Long &amp; Strong contain avo...</td>\n",
       "    </tr>\n",
       "  </tbody>\n",
       "</table>\n",
       "</div>"
      ],
      "text/plain": [
       "   index                             product          category  \\\n",
       "0      5  Creme Soft Soap - For Hands & Body  Beauty & Hygiene   \n",
       "1    103       Fructis Serum - Long & Strong  Beauty & Hygiene   \n",
       "\n",
       "       sub_category    brand  sale_price  market_price                   type  \\\n",
       "0  Bath & Hand Wash    Nivea       162.0         162.0   Bathing Bars & Soaps   \n",
       "1         Hair Care  Garnier       230.0         230.0  Shampoo & Conditioner   \n",
       "\n",
       "   rating                                        description  \\\n",
       "0     4.4  Nivea Creme Soft Soap gives your skin the best...   \n",
       "1     4.8  Garnier Fruits Long & Strong Strengthening Ser...   \n",
       "\n",
       "                                           questions  \n",
       "0  ['Is Nivea Creme Soft Soap effective for washi...  \n",
       "1  ['Does Fructis Serum Long & Strong contain avo...  "
      ]
     },
     "execution_count": 2,
     "metadata": {},
     "output_type": "execute_result"
    }
   ],
   "source": [
    "df = pd.read_csv(\"../data/bigbasket_beauty.csv\")\n",
    "df.head(2)"
   ]
  },
  {
   "cell_type": "code",
   "execution_count": 3,
   "metadata": {},
   "outputs": [],
   "source": [
    "# tokenzier = SpacySentenceTokenizer()\n",
    "# text = \"This is first sentence. This is second sentence.\"\n",
    "# docs = tokenzier.create_documents([text, text], metadatas=[{\"id\": 1}, {\"id\": 2}])\n",
    "# print(docs)"
   ]
  },
  {
   "cell_type": "code",
   "execution_count": 4,
   "metadata": {},
   "outputs": [
    {
     "data": {
      "text/plain": [
       "(1999, 200, 50, 'beauty-rc-cs200-co50-openai-small')"
      ]
     },
     "execution_count": 4,
     "metadata": {},
     "output_type": "execute_result"
    }
   ],
   "source": [
    "indexing_config = 5\n",
    "text_splitter, embeddings, emb_model_name, dimension, index_name = get_indexing_configuration(indexing_config)\n",
    "\n",
    "chunks = text_splitter.create_documents(df.description.values, metadatas=[{\"product_name\": i} for i in df[\"product\"].values] )\n",
    "len(chunks), text_splitter._chunk_size, text_splitter._chunk_overlap, index_name"
   ]
  },
  {
   "cell_type": "code",
   "execution_count": 5,
   "metadata": {},
   "outputs": [
    {
     "name": "stdout",
     "output_type": "stream",
     "text": [
      "Product name: Creme Soft Soap - For Hands & Body\n",
      "Nivea Creme Soft Soap gives your skin the best care that it must get. The soft bar consists of Vitamins F and Almonds which are really skin gracious and help you get great skin. It provides the skin\n"
     ]
    }
   ],
   "source": [
    "def add_product_name_to_page_content(chunk):\n",
    "    chunk.page_content = f\"Product name: {chunk.metadata['product_name']}\\n{chunk.page_content}\"\n",
    "    chunk.metadata = {}\n",
    "\n",
    "for chunk in chunks:\n",
    "    add_product_name_to_page_content(chunk)\n",
    "    \n",
    "print(chunks[0].page_content)"
   ]
  },
  {
   "cell_type": "code",
   "execution_count": 6,
   "metadata": {},
   "outputs": [],
   "source": [
    "# instantiate a Pinecone client\n",
    "pc = Pinecone(api_key=os.getenv(\"PINECONE_API_KEY\"))\n",
    "\n",
    "# First, check if our index already exists and delete stale index\n",
    "if index_name in [index_info['name'] for index_info in pc.list_indexes()]:\n",
    "    pc.delete_index(index_name)\n",
    "\n",
    "# we create a new index\n",
    "pc.create_index(name=index_name, metric=\"cosine\", dimension=dimension, # The OpenAI embedding model uses 1536 dimensions`\n",
    "                spec=ServerlessSpec(\n",
    "                cloud=\"aws\",\n",
    "                region=\"us-west-2\"\n",
    "            ) )\n",
    "time.sleep(10)"
   ]
  },
  {
   "cell_type": "code",
   "execution_count": 7,
   "metadata": {},
   "outputs": [
    {
     "name": "stderr",
     "output_type": "stream",
     "text": [
      "Warning: model not found. Using cl100k_base encoding.\n"
     ]
    },
    {
     "name": "stderr",
     "output_type": "stream",
     "text": [
      "Warning: model not found. Using cl100k_base encoding.\n"
     ]
    }
   ],
   "source": [
    "docsearch = langchain_pinecone.from_documents(chunks, embeddings, index_name=index_name)"
   ]
  },
  {
   "cell_type": "code",
   "execution_count": 8,
   "metadata": {},
   "outputs": [
    {
     "data": {
      "text/plain": [
       "{'dimension': 1536,\n",
       " 'index_fullness': 0.0,\n",
       " 'namespaces': {'': {'vector_count': 1999}},\n",
       " 'total_vector_count': 1999}"
      ]
     },
     "execution_count": 8,
     "metadata": {},
     "output_type": "execute_result"
    }
   ],
   "source": [
    "time.sleep(10)\n",
    "# connect to index\n",
    "index = pc.Index(index_name)\n",
    "# view index stats\n",
    "stats = index.describe_index_stats()\n",
    "stats"
   ]
  },
  {
   "cell_type": "code",
   "execution_count": 9,
   "metadata": {},
   "outputs": [],
   "source": [
    "assert stats['total_vector_count'] == len(chunks)"
   ]
  },
  {
   "cell_type": "code",
   "execution_count": 10,
   "metadata": {},
   "outputs": [
    {
     "name": "stderr",
     "output_type": "stream",
     "text": [
      "Warning: model not found. Using cl100k_base encoding.\n"
     ]
    },
    {
     "data": {
      "text/plain": [
       "[Document(page_content='Product name: Taft Ultimate Wax\\nis structured like wax and holds like a gel. It helps to protect the hair from drying out. It has the highest taffeta hold and crystal shine effect.'),\n",
       " Document(page_content='Product name: Taft Ultimate Wax\\nUltimate strongest taffeta-stop for 100% fixation with liquid crystal gloss effect that gives the hair a luxurious radiance. Ultimate Wax stop that is structured like wax and holds like a gel. It'),\n",
       " Document(page_content='Product name: Taft Shine Gel Wax\\nTaft Hair Wax is a sculpting product in the Schwarzkopf line and it is used to add hold and shine to hair. The base formula includes vegetable or mineral oils that work to build a finish without being'),\n",
       " Document(page_content='Product name: Taft Shine Gel Wax\\noils that work to build a finish without being sticky.'),\n",
       " Document(page_content='Product name: Taft Power Wax\\nwax and holds like a gel, all-weather will work for wet or dry hair. Make your hairdo an elegant and stylish affair with this power wax hair styler. It lends power and style and is suited for all'),\n",
       " Document(page_content='Product name: Taft Ultra Wax\\nin different weather conditions as this hair wax gives the right texture and hold.'),\n",
       " Document(page_content=\"Product name: Taft Ultra Wax\\nSchwarzkopf All Weather Taft Ultra Wax builds the perfect finish to your chic hairstyle. Now you don't have to worry about how intact your hairstyle stays in different weather conditions as this hair\"),\n",
       " Document(page_content='Product name: Taft Power Wax\\nIt lends power and style and is suited for all occasions. Use it in any season without any reason.'),\n",
       " Document(page_content='Product name: Taft Power Wax\\nSchwarzkopf professional Taft power wax hair styler contains a caffeine-strength formula, for power hold and 100 per cent strong hair, structures like wax and holds like a gel, all-weather will work'),\n",
       " Document(page_content='Product name: Taft Looks Titane Power Gel - Ultimate Hold 6\\nSchwarzkopf Taft Titane power gel gives extreme maintenance for your hairstyle, with water effects and extra gloss. It gives long-lasting ultra strong hold and is non-sticky and easily washable.')]"
      ]
     },
     "execution_count": 10,
     "metadata": {},
     "output_type": "execute_result"
    }
   ],
   "source": [
    "# if you already have an index, you can load it like this\n",
    "# docsearch = langchain_pinecone.from_existing_index(index_name, embeddings)\n",
    "\n",
    "query = \"Is Taft Ultimate Wax a gel or a wax?\"\n",
    "docs = docsearch.similarity_search(query, k=10)\n",
    "docs"
   ]
  },
  {
   "cell_type": "code",
   "execution_count": null,
   "metadata": {},
   "outputs": [],
   "source": [
    "# pc = Pinecone(api_key=os.getenv(\"PINECONE_API_KEY\"))\n",
    "# pc.delete_index(index_name)"
   ]
  },
  {
   "cell_type": "code",
   "execution_count": null,
   "metadata": {},
   "outputs": [],
   "source": []
  },
  {
   "cell_type": "code",
   "execution_count": null,
   "metadata": {},
   "outputs": [],
   "source": []
  }
 ],
 "metadata": {
  "kernelspec": {
   "display_name": "rag",
   "language": "python",
   "name": "python3"
  },
  "language_info": {
   "codemirror_mode": {
    "name": "ipython",
    "version": 3
   },
   "file_extension": ".py",
   "mimetype": "text/x-python",
   "name": "python",
   "nbconvert_exporter": "python",
   "pygments_lexer": "ipython3",
   "version": "3.11.7"
  }
 },
 "nbformat": 4,
 "nbformat_minor": 2
}
